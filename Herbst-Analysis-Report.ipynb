{
 "cells": [
  {
   "cell_type": "markdown",
   "id": "03daf3d0",
   "metadata": {},
   "source": [
    "In this Analysis Report, the two albums I chose were Planet Her by Doja Cat and Gettin Old by Luke Combs. I decided to chose these two albums due to them being my favorite albums. Also, both albums are a different genre of music, which captured my interest while looking for albums to analyze. "
   ]
  },
  {
   "cell_type": "code",
   "execution_count": 14,
   "id": "3abe4dcb",
   "metadata": {},
   "outputs": [],
   "source": [
    "import pandas as pd\n",
    "import numpy as np\n",
    "from scipy import stats\n",
    "from matplotlib import pyplot as plt\n",
    "import requests \n",
    "import base64\n",
    "import urllib "
   ]
  },
  {
   "cell_type": "markdown",
   "id": "913fb6e7",
   "metadata": {},
   "source": [
    "The first 10-15 lines of code include information needed to access spotify API. Much of this information was also used in my spotify API assignment. "
   ]
  },
  {
   "cell_type": "code",
   "execution_count": 15,
   "id": "9f24d1ff",
   "metadata": {},
   "outputs": [],
   "source": [
    "Client_ID = pd.read_csv('spotify_keys_9.19.txt')['Client_ID'].iloc[0]"
   ]
  },
  {
   "cell_type": "code",
   "execution_count": 16,
   "id": "cf3a3566",
   "metadata": {},
   "outputs": [],
   "source": [
    "Client_Secret = pd.read_csv('spotify_keys_9.19.txt')['Client_Secret'].iloc[0]"
   ]
  },
  {
   "cell_type": "code",
   "execution_count": 17,
   "id": "b346f60d",
   "metadata": {},
   "outputs": [],
   "source": [
    "#Client_ID"
   ]
  },
  {
   "cell_type": "code",
   "execution_count": 18,
   "id": "413db273",
   "metadata": {},
   "outputs": [],
   "source": [
    "#Client_Secret"
   ]
  },
  {
   "cell_type": "code",
   "execution_count": 19,
   "id": "a3212a69",
   "metadata": {},
   "outputs": [],
   "source": [
    "client_cred = base64.b64encode(str(Client_ID + \":\" + Client_Secret).encode(\"ascii\"))"
   ]
  },
  {
   "cell_type": "code",
   "execution_count": 20,
   "id": "5490c722",
   "metadata": {},
   "outputs": [],
   "source": [
    "#client_cred"
   ]
  },
  {
   "cell_type": "code",
   "execution_count": 21,
   "id": "fa764b6f",
   "metadata": {},
   "outputs": [],
   "source": [
    "headers = {\"Authorization\": \"Basic {}\".format(client_cred.decode(\"ascii\"))}"
   ]
  },
  {
   "cell_type": "code",
   "execution_count": 22,
   "id": "686c9a55",
   "metadata": {},
   "outputs": [],
   "source": [
    "#headers"
   ]
  },
  {
   "cell_type": "code",
   "execution_count": 23,
   "id": "5e4135c6",
   "metadata": {},
   "outputs": [],
   "source": [
    "payload = {'grant_type' : 'client_credentials'}\n",
    "url = 'https://accounts.spotify.com/api/token'"
   ]
  },
  {
   "cell_type": "code",
   "execution_count": 24,
   "id": "5b0466db",
   "metadata": {},
   "outputs": [],
   "source": [
    "response = requests.post(url = url, data = payload, headers = headers )"
   ]
  },
  {
   "cell_type": "code",
   "execution_count": 25,
   "id": "da281e82",
   "metadata": {},
   "outputs": [
    {
     "data": {
      "text/plain": [
       "200"
      ]
     },
     "execution_count": 25,
     "metadata": {},
     "output_type": "execute_result"
    }
   ],
   "source": [
    "response.status_code"
   ]
  },
  {
   "cell_type": "code",
   "execution_count": 26,
   "id": "99bc13b8",
   "metadata": {},
   "outputs": [],
   "source": [
    "#response.json()['access_token']"
   ]
  },
  {
   "cell_type": "code",
   "execution_count": 27,
   "id": "92d7ed5c",
   "metadata": {},
   "outputs": [],
   "source": [
    "header_key = response.json()"
   ]
  },
  {
   "cell_type": "code",
   "execution_count": 28,
   "id": "846b3f81",
   "metadata": {},
   "outputs": [],
   "source": [
    "#header_key['access_token']"
   ]
  },
  {
   "cell_type": "code",
   "execution_count": 29,
   "id": "16860411",
   "metadata": {},
   "outputs": [],
   "source": [
    "key = header_key['access_token']"
   ]
  },
  {
   "cell_type": "code",
   "execution_count": 30,
   "id": "b7a5f9e1",
   "metadata": {},
   "outputs": [],
   "source": [
    "session_headers = {\"Authorization\": \"Bearer {}\".format(key)}"
   ]
  },
  {
   "cell_type": "code",
   "execution_count": 31,
   "id": "a41b6013",
   "metadata": {},
   "outputs": [],
   "source": [
    "#session_headers"
   ]
  },
  {
   "cell_type": "markdown",
   "id": "0bc2175f",
   "metadata": {},
   "source": [
    "### Artist 1: Doja Cat\n",
    "#### Album: Planet Her "
   ]
  },
  {
   "cell_type": "code",
   "execution_count": 32,
   "id": "1931d78f",
   "metadata": {},
   "outputs": [],
   "source": [
    "doja_cat_id = '1nAQbHeOWTfQzbOoFrvndW'"
   ]
  },
  {
   "cell_type": "code",
   "execution_count": 33,
   "id": "73090c74",
   "metadata": {},
   "outputs": [],
   "source": [
    "doja_tracks_url  = 'https://api.spotify.com/v1/albums/{}/tracks'.format(doja_cat_id)"
   ]
  },
  {
   "cell_type": "code",
   "execution_count": 34,
   "id": "b7d90a19",
   "metadata": {},
   "outputs": [
    {
     "data": {
      "text/plain": [
       "'https://api.spotify.com/v1/albums/1nAQbHeOWTfQzbOoFrvndW/tracks'"
      ]
     },
     "execution_count": 34,
     "metadata": {},
     "output_type": "execute_result"
    }
   ],
   "source": [
    "doja_tracks_url"
   ]
  },
  {
   "cell_type": "code",
   "execution_count": 35,
   "id": "2f1cd930",
   "metadata": {},
   "outputs": [],
   "source": [
    "doja_tracks_response = requests.get(url = doja_tracks_url, headers = session_headers)"
   ]
  },
  {
   "cell_type": "code",
   "execution_count": 36,
   "id": "1cab5137",
   "metadata": {},
   "outputs": [
    {
     "data": {
      "text/plain": [
       "200"
      ]
     },
     "execution_count": 36,
     "metadata": {},
     "output_type": "execute_result"
    }
   ],
   "source": [
    "doja_tracks_response.status_code"
   ]
  },
  {
   "cell_type": "code",
   "execution_count": 37,
   "id": "9daed857",
   "metadata": {},
   "outputs": [],
   "source": [
    "doja_tracks_data = doja_tracks_response.json()"
   ]
  },
  {
   "cell_type": "code",
   "execution_count": 38,
   "id": "54052ba9",
   "metadata": {},
   "outputs": [
    {
     "data": {
      "text/plain": [
       "dict_keys(['href', 'items', 'limit', 'next', 'offset', 'previous', 'total'])"
      ]
     },
     "execution_count": 38,
     "metadata": {},
     "output_type": "execute_result"
    }
   ],
   "source": [
    "doja_tracks_data.keys()"
   ]
  },
  {
   "cell_type": "code",
   "execution_count": 39,
   "id": "a2911873",
   "metadata": {},
   "outputs": [
    {
     "data": {
      "text/plain": [
       "list"
      ]
     },
     "execution_count": 39,
     "metadata": {},
     "output_type": "execute_result"
    }
   ],
   "source": [
    "type(doja_tracks_data['items'])"
   ]
  },
  {
   "cell_type": "code",
   "execution_count": 40,
   "id": "9e56193e",
   "metadata": {},
   "outputs": [
    {
     "data": {
      "text/plain": [
       "dict_keys(['artists', 'available_markets', 'disc_number', 'duration_ms', 'explicit', 'external_urls', 'href', 'id', 'is_local', 'name', 'preview_url', 'track_number', 'type', 'uri'])"
      ]
     },
     "execution_count": 40,
     "metadata": {},
     "output_type": "execute_result"
    }
   ],
   "source": [
    "doja_tracks_data['items'][0].keys()"
   ]
  },
  {
   "cell_type": "code",
   "execution_count": 41,
   "id": "6533f716",
   "metadata": {},
   "outputs": [
    {
     "data": {
      "text/plain": [
       "'Woman'"
      ]
     },
     "execution_count": 41,
     "metadata": {},
     "output_type": "execute_result"
    }
   ],
   "source": [
    "doja_tracks_data['items'][0]['name']"
   ]
  },
  {
   "cell_type": "code",
   "execution_count": 42,
   "id": "8cb7820a",
   "metadata": {},
   "outputs": [
    {
     "data": {
      "text/plain": [
       "['Woman',\n",
       " 'Naked',\n",
       " 'Payday (feat. Young Thug)',\n",
       " 'Get Into It (Yuh)',\n",
       " 'Need to Know',\n",
       " \"I Don't Do Drugs (feat. Ariana Grande)\",\n",
       " 'Love To Dream',\n",
       " 'You Right',\n",
       " 'Been Like This',\n",
       " 'Options (feat. JID)',\n",
       " \"Ain't Shit\",\n",
       " 'Imagine',\n",
       " 'Alone',\n",
       " 'Kiss Me More (feat. SZA)']"
      ]
     },
     "execution_count": 42,
     "metadata": {},
     "output_type": "execute_result"
    }
   ],
   "source": [
    "[x['name'] for x in doja_tracks_data['items']]"
   ]
  },
  {
   "cell_type": "markdown",
   "id": "25b2282b",
   "metadata": {},
   "source": [
    "Dataframe for tracks in Doja Cats album, Planet Her. "
   ]
  },
  {
   "cell_type": "code",
   "execution_count": 43,
   "id": "e8d1da5b",
   "metadata": {},
   "outputs": [],
   "source": [
    "doja_tracks_df = pd.DataFrame(doja_tracks_data['items'])"
   ]
  },
  {
   "cell_type": "code",
   "execution_count": 44,
   "id": "447f1d84",
   "metadata": {},
   "outputs": [
    {
     "data": {
      "text/html": [
       "<div>\n",
       "<style scoped>\n",
       "    .dataframe tbody tr th:only-of-type {\n",
       "        vertical-align: middle;\n",
       "    }\n",
       "\n",
       "    .dataframe tbody tr th {\n",
       "        vertical-align: top;\n",
       "    }\n",
       "\n",
       "    .dataframe thead th {\n",
       "        text-align: right;\n",
       "    }\n",
       "</style>\n",
       "<table border=\"1\" class=\"dataframe\">\n",
       "  <thead>\n",
       "    <tr style=\"text-align: right;\">\n",
       "      <th></th>\n",
       "      <th>artists</th>\n",
       "      <th>available_markets</th>\n",
       "      <th>disc_number</th>\n",
       "      <th>duration_ms</th>\n",
       "      <th>explicit</th>\n",
       "      <th>external_urls</th>\n",
       "      <th>href</th>\n",
       "      <th>id</th>\n",
       "      <th>is_local</th>\n",
       "      <th>name</th>\n",
       "      <th>preview_url</th>\n",
       "      <th>track_number</th>\n",
       "      <th>type</th>\n",
       "      <th>uri</th>\n",
       "    </tr>\n",
       "  </thead>\n",
       "  <tbody>\n",
       "    <tr>\n",
       "      <th>0</th>\n",
       "      <td>[{'external_urls': {'spotify': 'https://open.s...</td>\n",
       "      <td>[AR, AU, AT, BE, BO, BR, BG, CA, CL, CO, CR, C...</td>\n",
       "      <td>1</td>\n",
       "      <td>172626</td>\n",
       "      <td>True</td>\n",
       "      <td>{'spotify': 'https://open.spotify.com/track/6U...</td>\n",
       "      <td>https://api.spotify.com/v1/tracks/6Uj1ctrBOjOa...</td>\n",
       "      <td>6Uj1ctrBOjOas8xZXGqKk4</td>\n",
       "      <td>False</td>\n",
       "      <td>Woman</td>\n",
       "      <td>https://p.scdn.co/mp3-preview/2ae0b61e45d9a5d6...</td>\n",
       "      <td>1</td>\n",
       "      <td>track</td>\n",
       "      <td>spotify:track:6Uj1ctrBOjOas8xZXGqKk4</td>\n",
       "    </tr>\n",
       "    <tr>\n",
       "      <th>1</th>\n",
       "      <td>[{'external_urls': {'spotify': 'https://open.s...</td>\n",
       "      <td>[AR, AU, AT, BE, BO, BR, BG, CA, CL, CO, CR, C...</td>\n",
       "      <td>1</td>\n",
       "      <td>223560</td>\n",
       "      <td>True</td>\n",
       "      <td>{'spotify': 'https://open.spotify.com/track/0C...</td>\n",
       "      <td>https://api.spotify.com/v1/tracks/0CsR9Y9SnC6Z...</td>\n",
       "      <td>0CsR9Y9SnC6ZWmekmVqSHz</td>\n",
       "      <td>False</td>\n",
       "      <td>Naked</td>\n",
       "      <td>https://p.scdn.co/mp3-preview/ad5c7c6914163d4f...</td>\n",
       "      <td>2</td>\n",
       "      <td>track</td>\n",
       "      <td>spotify:track:0CsR9Y9SnC6ZWmekmVqSHz</td>\n",
       "    </tr>\n",
       "    <tr>\n",
       "      <th>2</th>\n",
       "      <td>[{'external_urls': {'spotify': 'https://open.s...</td>\n",
       "      <td>[AR, AU, AT, BE, BO, BR, BG, CA, CL, CO, CR, C...</td>\n",
       "      <td>1</td>\n",
       "      <td>212946</td>\n",
       "      <td>True</td>\n",
       "      <td>{'spotify': 'https://open.spotify.com/track/2H...</td>\n",
       "      <td>https://api.spotify.com/v1/tracks/2HolBGR6tpiW...</td>\n",
       "      <td>2HolBGR6tpiWI80MXoV1dJ</td>\n",
       "      <td>False</td>\n",
       "      <td>Payday (feat. Young Thug)</td>\n",
       "      <td>https://p.scdn.co/mp3-preview/5c96a4bdf1e22577...</td>\n",
       "      <td>3</td>\n",
       "      <td>track</td>\n",
       "      <td>spotify:track:2HolBGR6tpiWI80MXoV1dJ</td>\n",
       "    </tr>\n",
       "    <tr>\n",
       "      <th>3</th>\n",
       "      <td>[{'external_urls': {'spotify': 'https://open.s...</td>\n",
       "      <td>[AR, AU, AT, BE, BO, BR, BG, CA, CL, CO, CR, C...</td>\n",
       "      <td>1</td>\n",
       "      <td>138293</td>\n",
       "      <td>True</td>\n",
       "      <td>{'spotify': 'https://open.spotify.com/track/0W...</td>\n",
       "      <td>https://api.spotify.com/v1/tracks/0W6I02J9xcqK...</td>\n",
       "      <td>0W6I02J9xcqK8MtSeosEXb</td>\n",
       "      <td>False</td>\n",
       "      <td>Get Into It (Yuh)</td>\n",
       "      <td>https://p.scdn.co/mp3-preview/7d4974829ad00a6a...</td>\n",
       "      <td>4</td>\n",
       "      <td>track</td>\n",
       "      <td>spotify:track:0W6I02J9xcqK8MtSeosEXb</td>\n",
       "    </tr>\n",
       "    <tr>\n",
       "      <th>4</th>\n",
       "      <td>[{'external_urls': {'spotify': 'https://open.s...</td>\n",
       "      <td>[AR, AU, AT, BE, BO, BR, BG, CA, CL, CO, CR, C...</td>\n",
       "      <td>1</td>\n",
       "      <td>210560</td>\n",
       "      <td>True</td>\n",
       "      <td>{'spotify': 'https://open.spotify.com/track/3V...</td>\n",
       "      <td>https://api.spotify.com/v1/tracks/3Vi5XqYrmQgO...</td>\n",
       "      <td>3Vi5XqYrmQgOYBajMWSvCi</td>\n",
       "      <td>False</td>\n",
       "      <td>Need to Know</td>\n",
       "      <td>https://p.scdn.co/mp3-preview/153dc4a72a260497...</td>\n",
       "      <td>5</td>\n",
       "      <td>track</td>\n",
       "      <td>spotify:track:3Vi5XqYrmQgOYBajMWSvCi</td>\n",
       "    </tr>\n",
       "  </tbody>\n",
       "</table>\n",
       "</div>"
      ],
      "text/plain": [
       "                                             artists  \\\n",
       "0  [{'external_urls': {'spotify': 'https://open.s...   \n",
       "1  [{'external_urls': {'spotify': 'https://open.s...   \n",
       "2  [{'external_urls': {'spotify': 'https://open.s...   \n",
       "3  [{'external_urls': {'spotify': 'https://open.s...   \n",
       "4  [{'external_urls': {'spotify': 'https://open.s...   \n",
       "\n",
       "                                   available_markets  disc_number  \\\n",
       "0  [AR, AU, AT, BE, BO, BR, BG, CA, CL, CO, CR, C...            1   \n",
       "1  [AR, AU, AT, BE, BO, BR, BG, CA, CL, CO, CR, C...            1   \n",
       "2  [AR, AU, AT, BE, BO, BR, BG, CA, CL, CO, CR, C...            1   \n",
       "3  [AR, AU, AT, BE, BO, BR, BG, CA, CL, CO, CR, C...            1   \n",
       "4  [AR, AU, AT, BE, BO, BR, BG, CA, CL, CO, CR, C...            1   \n",
       "\n",
       "   duration_ms  explicit                                      external_urls  \\\n",
       "0       172626      True  {'spotify': 'https://open.spotify.com/track/6U...   \n",
       "1       223560      True  {'spotify': 'https://open.spotify.com/track/0C...   \n",
       "2       212946      True  {'spotify': 'https://open.spotify.com/track/2H...   \n",
       "3       138293      True  {'spotify': 'https://open.spotify.com/track/0W...   \n",
       "4       210560      True  {'spotify': 'https://open.spotify.com/track/3V...   \n",
       "\n",
       "                                                href                      id  \\\n",
       "0  https://api.spotify.com/v1/tracks/6Uj1ctrBOjOa...  6Uj1ctrBOjOas8xZXGqKk4   \n",
       "1  https://api.spotify.com/v1/tracks/0CsR9Y9SnC6Z...  0CsR9Y9SnC6ZWmekmVqSHz   \n",
       "2  https://api.spotify.com/v1/tracks/2HolBGR6tpiW...  2HolBGR6tpiWI80MXoV1dJ   \n",
       "3  https://api.spotify.com/v1/tracks/0W6I02J9xcqK...  0W6I02J9xcqK8MtSeosEXb   \n",
       "4  https://api.spotify.com/v1/tracks/3Vi5XqYrmQgO...  3Vi5XqYrmQgOYBajMWSvCi   \n",
       "\n",
       "   is_local                       name  \\\n",
       "0     False                      Woman   \n",
       "1     False                      Naked   \n",
       "2     False  Payday (feat. Young Thug)   \n",
       "3     False          Get Into It (Yuh)   \n",
       "4     False               Need to Know   \n",
       "\n",
       "                                         preview_url  track_number   type  \\\n",
       "0  https://p.scdn.co/mp3-preview/2ae0b61e45d9a5d6...             1  track   \n",
       "1  https://p.scdn.co/mp3-preview/ad5c7c6914163d4f...             2  track   \n",
       "2  https://p.scdn.co/mp3-preview/5c96a4bdf1e22577...             3  track   \n",
       "3  https://p.scdn.co/mp3-preview/7d4974829ad00a6a...             4  track   \n",
       "4  https://p.scdn.co/mp3-preview/153dc4a72a260497...             5  track   \n",
       "\n",
       "                                    uri  \n",
       "0  spotify:track:6Uj1ctrBOjOas8xZXGqKk4  \n",
       "1  spotify:track:0CsR9Y9SnC6ZWmekmVqSHz  \n",
       "2  spotify:track:2HolBGR6tpiWI80MXoV1dJ  \n",
       "3  spotify:track:0W6I02J9xcqK8MtSeosEXb  \n",
       "4  spotify:track:3Vi5XqYrmQgOYBajMWSvCi  "
      ]
     },
     "execution_count": 44,
     "metadata": {},
     "output_type": "execute_result"
    }
   ],
   "source": [
    "doja_tracks_df.head()"
   ]
  },
  {
   "cell_type": "markdown",
   "id": "55f071e6",
   "metadata": {},
   "source": [
    "The line of code below shows how to obtain track ID's to be able to access audio features for Planet Her."
   ]
  },
  {
   "cell_type": "code",
   "execution_count": 45,
   "id": "fb240731",
   "metadata": {},
   "outputs": [
    {
     "data": {
      "text/plain": [
       "'6Uj1ctrBOjOas8xZXGqKk4%2C0CsR9Y9SnC6ZWmekmVqSHz%2C2HolBGR6tpiWI80MXoV1dJ%2C0W6I02J9xcqK8MtSeosEXb%2C3Vi5XqYrmQgOYBajMWSvCi%2C0FFsgUoFibYISzMxuGS61W%2C6Q9IUoBTNLHgBib1FSFGbj%2C0k4d5YPDr1r7FX77VdqWez%2C7y3xU9vEC1s8DSuuoSYKih%2C1ayV64ur8VWgc6OPtPRl1q%2C5lAnYvAIkSDNXqfo7DyFUm%2C5CC5krEgwJXuoA0F9scOFg%2C45Nc6nYgV3yBvAeRaZt689%2C3DarAbFujv6eYNliUTyqtz'"
      ]
     },
     "execution_count": 45,
     "metadata": {},
     "output_type": "execute_result"
    }
   ],
   "source": [
    "urllib.parse.quote(','.join(list(doja_tracks_df['id'])))"
   ]
  },
  {
   "cell_type": "code",
   "execution_count": 46,
   "id": "aba615be",
   "metadata": {},
   "outputs": [],
   "source": [
    "doja_audio_features_url = 'https://api.spotify.com/v1/audio-features?ids={}'.format(urllib.parse.quote(','.join(list(doja_tracks_df['id']))))"
   ]
  },
  {
   "cell_type": "code",
   "execution_count": 47,
   "id": "dae12584",
   "metadata": {},
   "outputs": [],
   "source": [
    "doja_features_response = requests.get(url = doja_audio_features_url, headers = session_headers)"
   ]
  },
  {
   "cell_type": "code",
   "execution_count": 48,
   "id": "621e1e1b",
   "metadata": {},
   "outputs": [],
   "source": [
    "doja_features = doja_features_response.json()"
   ]
  },
  {
   "cell_type": "markdown",
   "id": "ff9a963d",
   "metadata": {},
   "source": [
    "Below is the DataFrame for Planet Her audio features."
   ]
  },
  {
   "cell_type": "code",
   "execution_count": 49,
   "id": "6cf80b0f",
   "metadata": {},
   "outputs": [],
   "source": [
    "doja_features_df = pd.DataFrame(doja_features['audio_features'])"
   ]
  },
  {
   "cell_type": "code",
   "execution_count": 50,
   "id": "df87d60f",
   "metadata": {
    "scrolled": true
   },
   "outputs": [
    {
     "data": {
      "text/html": [
       "<div>\n",
       "<style scoped>\n",
       "    .dataframe tbody tr th:only-of-type {\n",
       "        vertical-align: middle;\n",
       "    }\n",
       "\n",
       "    .dataframe tbody tr th {\n",
       "        vertical-align: top;\n",
       "    }\n",
       "\n",
       "    .dataframe thead th {\n",
       "        text-align: right;\n",
       "    }\n",
       "</style>\n",
       "<table border=\"1\" class=\"dataframe\">\n",
       "  <thead>\n",
       "    <tr style=\"text-align: right;\">\n",
       "      <th></th>\n",
       "      <th>danceability</th>\n",
       "      <th>energy</th>\n",
       "      <th>key</th>\n",
       "      <th>loudness</th>\n",
       "      <th>mode</th>\n",
       "      <th>speechiness</th>\n",
       "      <th>acousticness</th>\n",
       "      <th>instrumentalness</th>\n",
       "      <th>liveness</th>\n",
       "      <th>valence</th>\n",
       "      <th>tempo</th>\n",
       "      <th>type</th>\n",
       "      <th>id</th>\n",
       "      <th>uri</th>\n",
       "      <th>track_href</th>\n",
       "      <th>analysis_url</th>\n",
       "      <th>duration_ms</th>\n",
       "      <th>time_signature</th>\n",
       "    </tr>\n",
       "  </thead>\n",
       "  <tbody>\n",
       "    <tr>\n",
       "      <th>0</th>\n",
       "      <td>0.824</td>\n",
       "      <td>0.764</td>\n",
       "      <td>5</td>\n",
       "      <td>-4.175</td>\n",
       "      <td>0</td>\n",
       "      <td>0.0854</td>\n",
       "      <td>0.0888</td>\n",
       "      <td>0.002940</td>\n",
       "      <td>0.1170</td>\n",
       "      <td>0.881</td>\n",
       "      <td>107.998</td>\n",
       "      <td>audio_features</td>\n",
       "      <td>6Uj1ctrBOjOas8xZXGqKk4</td>\n",
       "      <td>spotify:track:6Uj1ctrBOjOas8xZXGqKk4</td>\n",
       "      <td>https://api.spotify.com/v1/tracks/6Uj1ctrBOjOa...</td>\n",
       "      <td>https://api.spotify.com/v1/audio-analysis/6Uj1...</td>\n",
       "      <td>172627</td>\n",
       "      <td>4</td>\n",
       "    </tr>\n",
       "    <tr>\n",
       "      <th>1</th>\n",
       "      <td>0.733</td>\n",
       "      <td>0.862</td>\n",
       "      <td>7</td>\n",
       "      <td>-5.736</td>\n",
       "      <td>1</td>\n",
       "      <td>0.1970</td>\n",
       "      <td>0.3740</td>\n",
       "      <td>0.002470</td>\n",
       "      <td>0.1310</td>\n",
       "      <td>0.536</td>\n",
       "      <td>111.076</td>\n",
       "      <td>audio_features</td>\n",
       "      <td>0CsR9Y9SnC6ZWmekmVqSHz</td>\n",
       "      <td>spotify:track:0CsR9Y9SnC6ZWmekmVqSHz</td>\n",
       "      <td>https://api.spotify.com/v1/tracks/0CsR9Y9SnC6Z...</td>\n",
       "      <td>https://api.spotify.com/v1/audio-analysis/0CsR...</td>\n",
       "      <td>223560</td>\n",
       "      <td>4</td>\n",
       "    </tr>\n",
       "    <tr>\n",
       "      <th>2</th>\n",
       "      <td>0.619</td>\n",
       "      <td>0.707</td>\n",
       "      <td>1</td>\n",
       "      <td>-5.791</td>\n",
       "      <td>1</td>\n",
       "      <td>0.0499</td>\n",
       "      <td>0.0366</td>\n",
       "      <td>0.000075</td>\n",
       "      <td>0.1300</td>\n",
       "      <td>0.558</td>\n",
       "      <td>168.995</td>\n",
       "      <td>audio_features</td>\n",
       "      <td>2HolBGR6tpiWI80MXoV1dJ</td>\n",
       "      <td>spotify:track:2HolBGR6tpiWI80MXoV1dJ</td>\n",
       "      <td>https://api.spotify.com/v1/tracks/2HolBGR6tpiW...</td>\n",
       "      <td>https://api.spotify.com/v1/audio-analysis/2Hol...</td>\n",
       "      <td>212947</td>\n",
       "      <td>4</td>\n",
       "    </tr>\n",
       "    <tr>\n",
       "      <th>3</th>\n",
       "      <td>0.912</td>\n",
       "      <td>0.655</td>\n",
       "      <td>8</td>\n",
       "      <td>-6.029</td>\n",
       "      <td>0</td>\n",
       "      <td>0.1620</td>\n",
       "      <td>0.3150</td>\n",
       "      <td>0.000034</td>\n",
       "      <td>0.0894</td>\n",
       "      <td>0.793</td>\n",
       "      <td>91.942</td>\n",
       "      <td>audio_features</td>\n",
       "      <td>0W6I02J9xcqK8MtSeosEXb</td>\n",
       "      <td>spotify:track:0W6I02J9xcqK8MtSeosEXb</td>\n",
       "      <td>https://api.spotify.com/v1/tracks/0W6I02J9xcqK...</td>\n",
       "      <td>https://api.spotify.com/v1/audio-analysis/0W6I...</td>\n",
       "      <td>138293</td>\n",
       "      <td>4</td>\n",
       "    </tr>\n",
       "    <tr>\n",
       "      <th>4</th>\n",
       "      <td>0.664</td>\n",
       "      <td>0.609</td>\n",
       "      <td>1</td>\n",
       "      <td>-6.509</td>\n",
       "      <td>1</td>\n",
       "      <td>0.0707</td>\n",
       "      <td>0.3040</td>\n",
       "      <td>0.000000</td>\n",
       "      <td>0.0926</td>\n",
       "      <td>0.194</td>\n",
       "      <td>130.041</td>\n",
       "      <td>audio_features</td>\n",
       "      <td>3Vi5XqYrmQgOYBajMWSvCi</td>\n",
       "      <td>spotify:track:3Vi5XqYrmQgOYBajMWSvCi</td>\n",
       "      <td>https://api.spotify.com/v1/tracks/3Vi5XqYrmQgO...</td>\n",
       "      <td>https://api.spotify.com/v1/audio-analysis/3Vi5...</td>\n",
       "      <td>210560</td>\n",
       "      <td>4</td>\n",
       "    </tr>\n",
       "  </tbody>\n",
       "</table>\n",
       "</div>"
      ],
      "text/plain": [
       "   danceability  energy  key  loudness  mode  speechiness  acousticness  \\\n",
       "0         0.824   0.764    5    -4.175     0       0.0854        0.0888   \n",
       "1         0.733   0.862    7    -5.736     1       0.1970        0.3740   \n",
       "2         0.619   0.707    1    -5.791     1       0.0499        0.0366   \n",
       "3         0.912   0.655    8    -6.029     0       0.1620        0.3150   \n",
       "4         0.664   0.609    1    -6.509     1       0.0707        0.3040   \n",
       "\n",
       "   instrumentalness  liveness  valence    tempo            type  \\\n",
       "0          0.002940    0.1170    0.881  107.998  audio_features   \n",
       "1          0.002470    0.1310    0.536  111.076  audio_features   \n",
       "2          0.000075    0.1300    0.558  168.995  audio_features   \n",
       "3          0.000034    0.0894    0.793   91.942  audio_features   \n",
       "4          0.000000    0.0926    0.194  130.041  audio_features   \n",
       "\n",
       "                       id                                   uri  \\\n",
       "0  6Uj1ctrBOjOas8xZXGqKk4  spotify:track:6Uj1ctrBOjOas8xZXGqKk4   \n",
       "1  0CsR9Y9SnC6ZWmekmVqSHz  spotify:track:0CsR9Y9SnC6ZWmekmVqSHz   \n",
       "2  2HolBGR6tpiWI80MXoV1dJ  spotify:track:2HolBGR6tpiWI80MXoV1dJ   \n",
       "3  0W6I02J9xcqK8MtSeosEXb  spotify:track:0W6I02J9xcqK8MtSeosEXb   \n",
       "4  3Vi5XqYrmQgOYBajMWSvCi  spotify:track:3Vi5XqYrmQgOYBajMWSvCi   \n",
       "\n",
       "                                          track_href  \\\n",
       "0  https://api.spotify.com/v1/tracks/6Uj1ctrBOjOa...   \n",
       "1  https://api.spotify.com/v1/tracks/0CsR9Y9SnC6Z...   \n",
       "2  https://api.spotify.com/v1/tracks/2HolBGR6tpiW...   \n",
       "3  https://api.spotify.com/v1/tracks/0W6I02J9xcqK...   \n",
       "4  https://api.spotify.com/v1/tracks/3Vi5XqYrmQgO...   \n",
       "\n",
       "                                        analysis_url  duration_ms  \\\n",
       "0  https://api.spotify.com/v1/audio-analysis/6Uj1...       172627   \n",
       "1  https://api.spotify.com/v1/audio-analysis/0CsR...       223560   \n",
       "2  https://api.spotify.com/v1/audio-analysis/2Hol...       212947   \n",
       "3  https://api.spotify.com/v1/audio-analysis/0W6I...       138293   \n",
       "4  https://api.spotify.com/v1/audio-analysis/3Vi5...       210560   \n",
       "\n",
       "   time_signature  \n",
       "0               4  \n",
       "1               4  \n",
       "2               4  \n",
       "3               4  \n",
       "4               4  "
      ]
     },
     "execution_count": 50,
     "metadata": {},
     "output_type": "execute_result"
    }
   ],
   "source": [
    "doja_features_df.head()"
   ]
  },
  {
   "cell_type": "code",
   "execution_count": 51,
   "id": "13224bb4",
   "metadata": {},
   "outputs": [
    {
     "data": {
      "text/plain": [
       "Index(['danceability', 'energy', 'key', 'loudness', 'mode', 'speechiness',\n",
       "       'acousticness', 'instrumentalness', 'liveness', 'valence', 'tempo',\n",
       "       'type', 'id', 'uri', 'track_href', 'analysis_url', 'duration_ms',\n",
       "       'time_signature'],\n",
       "      dtype='object')"
      ]
     },
     "execution_count": 51,
     "metadata": {},
     "output_type": "execute_result"
    }
   ],
   "source": [
    "doja_features_df.columns"
   ]
  },
  {
   "cell_type": "markdown",
   "id": "a19fb147",
   "metadata": {},
   "source": [
    "### Artist 2: Luke Combs \n",
    "#### Album 2: Gettin Old"
   ]
  },
  {
   "cell_type": "code",
   "execution_count": 52,
   "id": "45704b90",
   "metadata": {},
   "outputs": [],
   "source": [
    "luke_combs_id = '5Uly85dJHHDfHQCsyUQ8gw'"
   ]
  },
  {
   "cell_type": "code",
   "execution_count": 53,
   "id": "b5786db8",
   "metadata": {},
   "outputs": [],
   "source": [
    "luke_tracks_url  = 'https://api.spotify.com/v1/albums/{}/tracks'.format(luke_combs_id)"
   ]
  },
  {
   "cell_type": "code",
   "execution_count": 54,
   "id": "3cb54b00",
   "metadata": {},
   "outputs": [
    {
     "data": {
      "text/plain": [
       "'https://api.spotify.com/v1/albums/5Uly85dJHHDfHQCsyUQ8gw/tracks'"
      ]
     },
     "execution_count": 54,
     "metadata": {},
     "output_type": "execute_result"
    }
   ],
   "source": [
    "luke_tracks_url"
   ]
  },
  {
   "cell_type": "code",
   "execution_count": 55,
   "id": "8b6d77ee",
   "metadata": {},
   "outputs": [],
   "source": [
    "luke_tracks_response = requests.get(url = luke_tracks_url, headers = session_headers)"
   ]
  },
  {
   "cell_type": "code",
   "execution_count": 56,
   "id": "4d903a0a",
   "metadata": {},
   "outputs": [
    {
     "data": {
      "text/plain": [
       "200"
      ]
     },
     "execution_count": 56,
     "metadata": {},
     "output_type": "execute_result"
    }
   ],
   "source": [
    "luke_tracks_response.status_code"
   ]
  },
  {
   "cell_type": "code",
   "execution_count": 57,
   "id": "4fa50b66",
   "metadata": {},
   "outputs": [],
   "source": [
    "luke_tracks_data = luke_tracks_response.json()"
   ]
  },
  {
   "cell_type": "code",
   "execution_count": 58,
   "id": "36a2396a",
   "metadata": {},
   "outputs": [
    {
     "data": {
      "text/plain": [
       "dict_keys(['href', 'items', 'limit', 'next', 'offset', 'previous', 'total'])"
      ]
     },
     "execution_count": 58,
     "metadata": {},
     "output_type": "execute_result"
    }
   ],
   "source": [
    "luke_tracks_data.keys()"
   ]
  },
  {
   "cell_type": "code",
   "execution_count": 59,
   "id": "0a2f20eb",
   "metadata": {},
   "outputs": [
    {
     "data": {
      "text/plain": [
       "list"
      ]
     },
     "execution_count": 59,
     "metadata": {},
     "output_type": "execute_result"
    }
   ],
   "source": [
    "type(luke_tracks_data['items'])"
   ]
  },
  {
   "cell_type": "code",
   "execution_count": 60,
   "id": "1222112f",
   "metadata": {},
   "outputs": [
    {
     "data": {
      "text/plain": [
       "dict_keys(['artists', 'available_markets', 'disc_number', 'duration_ms', 'explicit', 'external_urls', 'href', 'id', 'is_local', 'name', 'preview_url', 'track_number', 'type', 'uri'])"
      ]
     },
     "execution_count": 60,
     "metadata": {},
     "output_type": "execute_result"
    }
   ],
   "source": [
    "luke_tracks_data['items'][0].keys()"
   ]
  },
  {
   "cell_type": "code",
   "execution_count": 61,
   "id": "1cb8ebb1",
   "metadata": {},
   "outputs": [
    {
     "data": {
      "text/plain": [
       "\"Growin' Up and Gettin' Old\""
      ]
     },
     "execution_count": 61,
     "metadata": {},
     "output_type": "execute_result"
    }
   ],
   "source": [
    "luke_tracks_data['items'][0]['name']"
   ]
  },
  {
   "cell_type": "code",
   "execution_count": 62,
   "id": "c83f5443",
   "metadata": {},
   "outputs": [
    {
     "data": {
      "text/plain": [
       "[\"Growin' Up and Gettin' Old\",\n",
       " 'Hannah Ford Road',\n",
       " 'Back 40 Back',\n",
       " 'You Found Yours',\n",
       " 'The Beer, the Band, and the Barstool',\n",
       " 'Still',\n",
       " 'See Me Now',\n",
       " 'Joe',\n",
       " 'A Song Was Born',\n",
       " 'My Song Will Never Die',\n",
       " 'Where the Wild Things Are',\n",
       " 'Love You Anyway',\n",
       " 'Take You With Me',\n",
       " 'Fast Car',\n",
       " 'Tattoo on a Sunburn',\n",
       " '5 Leaf Clover',\n",
       " 'Fox in the Henhouse',\n",
       " 'The Part']"
      ]
     },
     "execution_count": 62,
     "metadata": {},
     "output_type": "execute_result"
    }
   ],
   "source": [
    "[x['name'] for x in luke_tracks_data['items']]"
   ]
  },
  {
   "cell_type": "markdown",
   "id": "08b724e2",
   "metadata": {},
   "source": [
    "Below is the data frame for tracks in Gettin Old. "
   ]
  },
  {
   "cell_type": "code",
   "execution_count": 63,
   "id": "5aeff5d7",
   "metadata": {},
   "outputs": [],
   "source": [
    "luke_tracks_df = pd.DataFrame(luke_tracks_data['items'])"
   ]
  },
  {
   "cell_type": "code",
   "execution_count": 64,
   "id": "ff322b97",
   "metadata": {},
   "outputs": [
    {
     "data": {
      "text/html": [
       "<div>\n",
       "<style scoped>\n",
       "    .dataframe tbody tr th:only-of-type {\n",
       "        vertical-align: middle;\n",
       "    }\n",
       "\n",
       "    .dataframe tbody tr th {\n",
       "        vertical-align: top;\n",
       "    }\n",
       "\n",
       "    .dataframe thead th {\n",
       "        text-align: right;\n",
       "    }\n",
       "</style>\n",
       "<table border=\"1\" class=\"dataframe\">\n",
       "  <thead>\n",
       "    <tr style=\"text-align: right;\">\n",
       "      <th></th>\n",
       "      <th>artists</th>\n",
       "      <th>available_markets</th>\n",
       "      <th>disc_number</th>\n",
       "      <th>duration_ms</th>\n",
       "      <th>explicit</th>\n",
       "      <th>external_urls</th>\n",
       "      <th>href</th>\n",
       "      <th>id</th>\n",
       "      <th>is_local</th>\n",
       "      <th>name</th>\n",
       "      <th>preview_url</th>\n",
       "      <th>track_number</th>\n",
       "      <th>type</th>\n",
       "      <th>uri</th>\n",
       "    </tr>\n",
       "  </thead>\n",
       "  <tbody>\n",
       "    <tr>\n",
       "      <th>0</th>\n",
       "      <td>[{'external_urls': {'spotify': 'https://open.s...</td>\n",
       "      <td>[AR, AU, AT, BE, BO, BR, BG, CA, CL, CO, CR, C...</td>\n",
       "      <td>1</td>\n",
       "      <td>233666</td>\n",
       "      <td>False</td>\n",
       "      <td>{'spotify': 'https://open.spotify.com/track/24...</td>\n",
       "      <td>https://api.spotify.com/v1/tracks/24Z0qiHUR9cT...</td>\n",
       "      <td>24Z0qiHUR9cTB4UfGUqCnj</td>\n",
       "      <td>False</td>\n",
       "      <td>Growin' Up and Gettin' Old</td>\n",
       "      <td>https://p.scdn.co/mp3-preview/476a4a4d0bda8d0b...</td>\n",
       "      <td>1</td>\n",
       "      <td>track</td>\n",
       "      <td>spotify:track:24Z0qiHUR9cTB4UfGUqCnj</td>\n",
       "    </tr>\n",
       "    <tr>\n",
       "      <th>1</th>\n",
       "      <td>[{'external_urls': {'spotify': 'https://open.s...</td>\n",
       "      <td>[AR, AU, AT, BE, BO, BR, BG, CA, CL, CO, CR, C...</td>\n",
       "      <td>1</td>\n",
       "      <td>218173</td>\n",
       "      <td>False</td>\n",
       "      <td>{'spotify': 'https://open.spotify.com/track/5g...</td>\n",
       "      <td>https://api.spotify.com/v1/tracks/5gy5oMthJa80...</td>\n",
       "      <td>5gy5oMthJa807ihJik4U3O</td>\n",
       "      <td>False</td>\n",
       "      <td>Hannah Ford Road</td>\n",
       "      <td>https://p.scdn.co/mp3-preview/c5b5b41ce7fbead8...</td>\n",
       "      <td>2</td>\n",
       "      <td>track</td>\n",
       "      <td>spotify:track:5gy5oMthJa807ihJik4U3O</td>\n",
       "    </tr>\n",
       "    <tr>\n",
       "      <th>2</th>\n",
       "      <td>[{'external_urls': {'spotify': 'https://open.s...</td>\n",
       "      <td>[AR, AU, AT, BE, BO, BR, BG, CA, CL, CO, CR, C...</td>\n",
       "      <td>1</td>\n",
       "      <td>185466</td>\n",
       "      <td>False</td>\n",
       "      <td>{'spotify': 'https://open.spotify.com/track/5i...</td>\n",
       "      <td>https://api.spotify.com/v1/tracks/5inIeRExNFzO...</td>\n",
       "      <td>5inIeRExNFzOuqaYU7tpT9</td>\n",
       "      <td>False</td>\n",
       "      <td>Back 40 Back</td>\n",
       "      <td>https://p.scdn.co/mp3-preview/509588bfb948a60b...</td>\n",
       "      <td>3</td>\n",
       "      <td>track</td>\n",
       "      <td>spotify:track:5inIeRExNFzOuqaYU7tpT9</td>\n",
       "    </tr>\n",
       "    <tr>\n",
       "      <th>3</th>\n",
       "      <td>[{'external_urls': {'spotify': 'https://open.s...</td>\n",
       "      <td>[AR, AU, AT, BE, BO, BR, BG, CA, CL, CO, CR, C...</td>\n",
       "      <td>1</td>\n",
       "      <td>191986</td>\n",
       "      <td>False</td>\n",
       "      <td>{'spotify': 'https://open.spotify.com/track/5O...</td>\n",
       "      <td>https://api.spotify.com/v1/tracks/5OGCd9NL8Xcw...</td>\n",
       "      <td>5OGCd9NL8XcwpkTmSxL5YI</td>\n",
       "      <td>False</td>\n",
       "      <td>You Found Yours</td>\n",
       "      <td>https://p.scdn.co/mp3-preview/c3fb0f485bd39131...</td>\n",
       "      <td>4</td>\n",
       "      <td>track</td>\n",
       "      <td>spotify:track:5OGCd9NL8XcwpkTmSxL5YI</td>\n",
       "    </tr>\n",
       "    <tr>\n",
       "      <th>4</th>\n",
       "      <td>[{'external_urls': {'spotify': 'https://open.s...</td>\n",
       "      <td>[AR, AU, AT, BE, BO, BR, BG, CA, CL, CO, CR, C...</td>\n",
       "      <td>1</td>\n",
       "      <td>217640</td>\n",
       "      <td>False</td>\n",
       "      <td>{'spotify': 'https://open.spotify.com/track/4x...</td>\n",
       "      <td>https://api.spotify.com/v1/tracks/4xXLSKNYTHLN...</td>\n",
       "      <td>4xXLSKNYTHLN00eZEzbqLr</td>\n",
       "      <td>False</td>\n",
       "      <td>The Beer, the Band, and the Barstool</td>\n",
       "      <td>https://p.scdn.co/mp3-preview/2165ae33277fa357...</td>\n",
       "      <td>5</td>\n",
       "      <td>track</td>\n",
       "      <td>spotify:track:4xXLSKNYTHLN00eZEzbqLr</td>\n",
       "    </tr>\n",
       "  </tbody>\n",
       "</table>\n",
       "</div>"
      ],
      "text/plain": [
       "                                             artists  \\\n",
       "0  [{'external_urls': {'spotify': 'https://open.s...   \n",
       "1  [{'external_urls': {'spotify': 'https://open.s...   \n",
       "2  [{'external_urls': {'spotify': 'https://open.s...   \n",
       "3  [{'external_urls': {'spotify': 'https://open.s...   \n",
       "4  [{'external_urls': {'spotify': 'https://open.s...   \n",
       "\n",
       "                                   available_markets  disc_number  \\\n",
       "0  [AR, AU, AT, BE, BO, BR, BG, CA, CL, CO, CR, C...            1   \n",
       "1  [AR, AU, AT, BE, BO, BR, BG, CA, CL, CO, CR, C...            1   \n",
       "2  [AR, AU, AT, BE, BO, BR, BG, CA, CL, CO, CR, C...            1   \n",
       "3  [AR, AU, AT, BE, BO, BR, BG, CA, CL, CO, CR, C...            1   \n",
       "4  [AR, AU, AT, BE, BO, BR, BG, CA, CL, CO, CR, C...            1   \n",
       "\n",
       "   duration_ms  explicit                                      external_urls  \\\n",
       "0       233666     False  {'spotify': 'https://open.spotify.com/track/24...   \n",
       "1       218173     False  {'spotify': 'https://open.spotify.com/track/5g...   \n",
       "2       185466     False  {'spotify': 'https://open.spotify.com/track/5i...   \n",
       "3       191986     False  {'spotify': 'https://open.spotify.com/track/5O...   \n",
       "4       217640     False  {'spotify': 'https://open.spotify.com/track/4x...   \n",
       "\n",
       "                                                href                      id  \\\n",
       "0  https://api.spotify.com/v1/tracks/24Z0qiHUR9cT...  24Z0qiHUR9cTB4UfGUqCnj   \n",
       "1  https://api.spotify.com/v1/tracks/5gy5oMthJa80...  5gy5oMthJa807ihJik4U3O   \n",
       "2  https://api.spotify.com/v1/tracks/5inIeRExNFzO...  5inIeRExNFzOuqaYU7tpT9   \n",
       "3  https://api.spotify.com/v1/tracks/5OGCd9NL8Xcw...  5OGCd9NL8XcwpkTmSxL5YI   \n",
       "4  https://api.spotify.com/v1/tracks/4xXLSKNYTHLN...  4xXLSKNYTHLN00eZEzbqLr   \n",
       "\n",
       "   is_local                                  name  \\\n",
       "0     False            Growin' Up and Gettin' Old   \n",
       "1     False                      Hannah Ford Road   \n",
       "2     False                          Back 40 Back   \n",
       "3     False                       You Found Yours   \n",
       "4     False  The Beer, the Band, and the Barstool   \n",
       "\n",
       "                                         preview_url  track_number   type  \\\n",
       "0  https://p.scdn.co/mp3-preview/476a4a4d0bda8d0b...             1  track   \n",
       "1  https://p.scdn.co/mp3-preview/c5b5b41ce7fbead8...             2  track   \n",
       "2  https://p.scdn.co/mp3-preview/509588bfb948a60b...             3  track   \n",
       "3  https://p.scdn.co/mp3-preview/c3fb0f485bd39131...             4  track   \n",
       "4  https://p.scdn.co/mp3-preview/2165ae33277fa357...             5  track   \n",
       "\n",
       "                                    uri  \n",
       "0  spotify:track:24Z0qiHUR9cTB4UfGUqCnj  \n",
       "1  spotify:track:5gy5oMthJa807ihJik4U3O  \n",
       "2  spotify:track:5inIeRExNFzOuqaYU7tpT9  \n",
       "3  spotify:track:5OGCd9NL8XcwpkTmSxL5YI  \n",
       "4  spotify:track:4xXLSKNYTHLN00eZEzbqLr  "
      ]
     },
     "execution_count": 64,
     "metadata": {},
     "output_type": "execute_result"
    }
   ],
   "source": [
    "luke_tracks_df.head()"
   ]
  },
  {
   "cell_type": "markdown",
   "id": "bf388f37",
   "metadata": {},
   "source": [
    "The line of code below shows how to obtain track ID's to be able to access audio features for Planet Her."
   ]
  },
  {
   "cell_type": "code",
   "execution_count": 65,
   "id": "d0558eab",
   "metadata": {},
   "outputs": [
    {
     "data": {
      "text/plain": [
       "'24Z0qiHUR9cTB4UfGUqCnj%2C5gy5oMthJa807ihJik4U3O%2C5inIeRExNFzOuqaYU7tpT9%2C5OGCd9NL8XcwpkTmSxL5YI%2C4xXLSKNYTHLN00eZEzbqLr%2C6LuooOeUu4NOjkVOiT5CdS%2C5WxQEQJtrOYzobMBTsdPBb%2C0kPhTGl84wcSzdTareTroP%2C4AhZSJyGTfYqUnFjn5eGQa%2C2bPOr33Dh8usjH01h1wa3N%2C0eBFgRxyVSeuT4iyrbukdn%2C2kYevr8cbIAH2ha8210Bnz%2C4tgKstWpyU8mtWVQp7ojbM%2C1Lo0QY9cvc8sUB2vnIOxDT%2C0V75hy6x3cToema5BdJaj9%2C52ChYmfu792MW2Ezv0whpk%2C3GZSVedXaTqScGsewGuAyi%2C3v8e2n4bFrAeKRKgy3nha1'"
      ]
     },
     "execution_count": 65,
     "metadata": {},
     "output_type": "execute_result"
    }
   ],
   "source": [
    "urllib.parse.quote(','.join(list(luke_tracks_df['id'])))"
   ]
  },
  {
   "cell_type": "code",
   "execution_count": 66,
   "id": "87e75d0e",
   "metadata": {},
   "outputs": [],
   "source": [
    "luke_audio_features_url = 'https://api.spotify.com/v1/audio-features?ids={}'.format(urllib.parse.quote(','.join(list(luke_tracks_df['id']))))"
   ]
  },
  {
   "cell_type": "code",
   "execution_count": 67,
   "id": "ae1068fb",
   "metadata": {},
   "outputs": [],
   "source": [
    "luke_features_response = requests.get(url = luke_audio_features_url, headers = session_headers)"
   ]
  },
  {
   "cell_type": "code",
   "execution_count": 68,
   "id": "54f05a29",
   "metadata": {},
   "outputs": [],
   "source": [
    "luke_features = luke_features_response.json()"
   ]
  },
  {
   "cell_type": "code",
   "execution_count": 69,
   "id": "2310c458",
   "metadata": {},
   "outputs": [],
   "source": [
    "luke_features_df = pd.DataFrame(luke_features['audio_features'])"
   ]
  },
  {
   "cell_type": "code",
   "execution_count": 70,
   "id": "3d07738a",
   "metadata": {},
   "outputs": [
    {
     "data": {
      "text/html": [
       "<div>\n",
       "<style scoped>\n",
       "    .dataframe tbody tr th:only-of-type {\n",
       "        vertical-align: middle;\n",
       "    }\n",
       "\n",
       "    .dataframe tbody tr th {\n",
       "        vertical-align: top;\n",
       "    }\n",
       "\n",
       "    .dataframe thead th {\n",
       "        text-align: right;\n",
       "    }\n",
       "</style>\n",
       "<table border=\"1\" class=\"dataframe\">\n",
       "  <thead>\n",
       "    <tr style=\"text-align: right;\">\n",
       "      <th></th>\n",
       "      <th>danceability</th>\n",
       "      <th>energy</th>\n",
       "      <th>key</th>\n",
       "      <th>loudness</th>\n",
       "      <th>mode</th>\n",
       "      <th>speechiness</th>\n",
       "      <th>acousticness</th>\n",
       "      <th>instrumentalness</th>\n",
       "      <th>liveness</th>\n",
       "      <th>valence</th>\n",
       "      <th>tempo</th>\n",
       "      <th>type</th>\n",
       "      <th>id</th>\n",
       "      <th>uri</th>\n",
       "      <th>track_href</th>\n",
       "      <th>analysis_url</th>\n",
       "      <th>duration_ms</th>\n",
       "      <th>time_signature</th>\n",
       "    </tr>\n",
       "  </thead>\n",
       "  <tbody>\n",
       "    <tr>\n",
       "      <th>0</th>\n",
       "      <td>0.511</td>\n",
       "      <td>0.600</td>\n",
       "      <td>2</td>\n",
       "      <td>-5.699</td>\n",
       "      <td>1</td>\n",
       "      <td>0.0268</td>\n",
       "      <td>0.160000</td>\n",
       "      <td>0.000005</td>\n",
       "      <td>0.114</td>\n",
       "      <td>0.269</td>\n",
       "      <td>146.051</td>\n",
       "      <td>audio_features</td>\n",
       "      <td>24Z0qiHUR9cTB4UfGUqCnj</td>\n",
       "      <td>spotify:track:24Z0qiHUR9cTB4UfGUqCnj</td>\n",
       "      <td>https://api.spotify.com/v1/tracks/24Z0qiHUR9cT...</td>\n",
       "      <td>https://api.spotify.com/v1/audio-analysis/24Z0...</td>\n",
       "      <td>233667</td>\n",
       "      <td>4</td>\n",
       "    </tr>\n",
       "    <tr>\n",
       "      <th>1</th>\n",
       "      <td>0.520</td>\n",
       "      <td>0.962</td>\n",
       "      <td>1</td>\n",
       "      <td>-5.506</td>\n",
       "      <td>0</td>\n",
       "      <td>0.0827</td>\n",
       "      <td>0.000369</td>\n",
       "      <td>0.000000</td>\n",
       "      <td>0.330</td>\n",
       "      <td>0.488</td>\n",
       "      <td>131.068</td>\n",
       "      <td>audio_features</td>\n",
       "      <td>5gy5oMthJa807ihJik4U3O</td>\n",
       "      <td>spotify:track:5gy5oMthJa807ihJik4U3O</td>\n",
       "      <td>https://api.spotify.com/v1/tracks/5gy5oMthJa80...</td>\n",
       "      <td>https://api.spotify.com/v1/audio-analysis/5gy5...</td>\n",
       "      <td>218173</td>\n",
       "      <td>4</td>\n",
       "    </tr>\n",
       "    <tr>\n",
       "      <th>2</th>\n",
       "      <td>0.560</td>\n",
       "      <td>0.589</td>\n",
       "      <td>11</td>\n",
       "      <td>-6.849</td>\n",
       "      <td>1</td>\n",
       "      <td>0.0308</td>\n",
       "      <td>0.566000</td>\n",
       "      <td>0.000000</td>\n",
       "      <td>0.124</td>\n",
       "      <td>0.394</td>\n",
       "      <td>82.026</td>\n",
       "      <td>audio_features</td>\n",
       "      <td>5inIeRExNFzOuqaYU7tpT9</td>\n",
       "      <td>spotify:track:5inIeRExNFzOuqaYU7tpT9</td>\n",
       "      <td>https://api.spotify.com/v1/tracks/5inIeRExNFzO...</td>\n",
       "      <td>https://api.spotify.com/v1/audio-analysis/5inI...</td>\n",
       "      <td>185467</td>\n",
       "      <td>4</td>\n",
       "    </tr>\n",
       "    <tr>\n",
       "      <th>3</th>\n",
       "      <td>0.586</td>\n",
       "      <td>0.725</td>\n",
       "      <td>10</td>\n",
       "      <td>-7.073</td>\n",
       "      <td>1</td>\n",
       "      <td>0.0254</td>\n",
       "      <td>0.005320</td>\n",
       "      <td>0.001730</td>\n",
       "      <td>0.228</td>\n",
       "      <td>0.680</td>\n",
       "      <td>94.995</td>\n",
       "      <td>audio_features</td>\n",
       "      <td>5OGCd9NL8XcwpkTmSxL5YI</td>\n",
       "      <td>spotify:track:5OGCd9NL8XcwpkTmSxL5YI</td>\n",
       "      <td>https://api.spotify.com/v1/tracks/5OGCd9NL8Xcw...</td>\n",
       "      <td>https://api.spotify.com/v1/audio-analysis/5OGC...</td>\n",
       "      <td>191987</td>\n",
       "      <td>4</td>\n",
       "    </tr>\n",
       "    <tr>\n",
       "      <th>4</th>\n",
       "      <td>0.519</td>\n",
       "      <td>0.682</td>\n",
       "      <td>8</td>\n",
       "      <td>-6.284</td>\n",
       "      <td>1</td>\n",
       "      <td>0.0321</td>\n",
       "      <td>0.161000</td>\n",
       "      <td>0.000026</td>\n",
       "      <td>0.113</td>\n",
       "      <td>0.451</td>\n",
       "      <td>78.933</td>\n",
       "      <td>audio_features</td>\n",
       "      <td>4xXLSKNYTHLN00eZEzbqLr</td>\n",
       "      <td>spotify:track:4xXLSKNYTHLN00eZEzbqLr</td>\n",
       "      <td>https://api.spotify.com/v1/tracks/4xXLSKNYTHLN...</td>\n",
       "      <td>https://api.spotify.com/v1/audio-analysis/4xXL...</td>\n",
       "      <td>217640</td>\n",
       "      <td>4</td>\n",
       "    </tr>\n",
       "  </tbody>\n",
       "</table>\n",
       "</div>"
      ],
      "text/plain": [
       "   danceability  energy  key  loudness  mode  speechiness  acousticness  \\\n",
       "0         0.511   0.600    2    -5.699     1       0.0268      0.160000   \n",
       "1         0.520   0.962    1    -5.506     0       0.0827      0.000369   \n",
       "2         0.560   0.589   11    -6.849     1       0.0308      0.566000   \n",
       "3         0.586   0.725   10    -7.073     1       0.0254      0.005320   \n",
       "4         0.519   0.682    8    -6.284     1       0.0321      0.161000   \n",
       "\n",
       "   instrumentalness  liveness  valence    tempo            type  \\\n",
       "0          0.000005     0.114    0.269  146.051  audio_features   \n",
       "1          0.000000     0.330    0.488  131.068  audio_features   \n",
       "2          0.000000     0.124    0.394   82.026  audio_features   \n",
       "3          0.001730     0.228    0.680   94.995  audio_features   \n",
       "4          0.000026     0.113    0.451   78.933  audio_features   \n",
       "\n",
       "                       id                                   uri  \\\n",
       "0  24Z0qiHUR9cTB4UfGUqCnj  spotify:track:24Z0qiHUR9cTB4UfGUqCnj   \n",
       "1  5gy5oMthJa807ihJik4U3O  spotify:track:5gy5oMthJa807ihJik4U3O   \n",
       "2  5inIeRExNFzOuqaYU7tpT9  spotify:track:5inIeRExNFzOuqaYU7tpT9   \n",
       "3  5OGCd9NL8XcwpkTmSxL5YI  spotify:track:5OGCd9NL8XcwpkTmSxL5YI   \n",
       "4  4xXLSKNYTHLN00eZEzbqLr  spotify:track:4xXLSKNYTHLN00eZEzbqLr   \n",
       "\n",
       "                                          track_href  \\\n",
       "0  https://api.spotify.com/v1/tracks/24Z0qiHUR9cT...   \n",
       "1  https://api.spotify.com/v1/tracks/5gy5oMthJa80...   \n",
       "2  https://api.spotify.com/v1/tracks/5inIeRExNFzO...   \n",
       "3  https://api.spotify.com/v1/tracks/5OGCd9NL8Xcw...   \n",
       "4  https://api.spotify.com/v1/tracks/4xXLSKNYTHLN...   \n",
       "\n",
       "                                        analysis_url  duration_ms  \\\n",
       "0  https://api.spotify.com/v1/audio-analysis/24Z0...       233667   \n",
       "1  https://api.spotify.com/v1/audio-analysis/5gy5...       218173   \n",
       "2  https://api.spotify.com/v1/audio-analysis/5inI...       185467   \n",
       "3  https://api.spotify.com/v1/audio-analysis/5OGC...       191987   \n",
       "4  https://api.spotify.com/v1/audio-analysis/4xXL...       217640   \n",
       "\n",
       "   time_signature  \n",
       "0               4  \n",
       "1               4  \n",
       "2               4  \n",
       "3               4  \n",
       "4               4  "
      ]
     },
     "execution_count": 70,
     "metadata": {},
     "output_type": "execute_result"
    }
   ],
   "source": [
    "luke_features_df.head()"
   ]
  },
  {
   "cell_type": "code",
   "execution_count": 71,
   "id": "5ce3bf92",
   "metadata": {},
   "outputs": [
    {
     "data": {
      "text/plain": [
       "Index(['danceability', 'energy', 'key', 'loudness', 'mode', 'speechiness',\n",
       "       'acousticness', 'instrumentalness', 'liveness', 'valence', 'tempo',\n",
       "       'type', 'id', 'uri', 'track_href', 'analysis_url', 'duration_ms',\n",
       "       'time_signature'],\n",
       "      dtype='object')"
      ]
     },
     "execution_count": 71,
     "metadata": {},
     "output_type": "execute_result"
    }
   ],
   "source": [
    "luke_features_df.columns"
   ]
  },
  {
   "cell_type": "markdown",
   "id": "4d437965",
   "metadata": {},
   "source": [
    "Danceability and Valence are the two audio features I selected for this report. I chose these two variables because they are the most interesting variables to me. I also thought the comparison of the features in each album would be interesting. "
   ]
  },
  {
   "cell_type": "code",
   "execution_count": 72,
   "id": "91e94293",
   "metadata": {},
   "outputs": [
    {
     "data": {
      "image/png": "[encoded data removed]",
      "text/plain": [
       "<Figure size 1000x500 with 2 Axes>"
      ]
     },
     "metadata": {},
     "output_type": "display_data"
    }
   ],
   "source": [
    "fig1, ax1 = plt.subplots(1, 2, figsize = (10, 5))\n",
    "ax1[0].hist(doja_features_df['valence'], color = 'pink')\n",
    "ax1[0].hist(doja_features_df['danceability'], color = 'purple') \n",
    "ax1[1].hist(luke_features_df['valence'], color = 'pink') \n",
    "ax1[1].hist(luke_features_df['danceability'], color = 'purple') \n",
    "\n",
    "ax1[0].set_title('Planet Her by Doja Cat')\n",
    "ax1[1].set_title('Gettin Old by Luke Combs')\n",
    "\n",
    "\n",
    "plt.show()"
   ]
  },
  {
   "cell_type": "markdown",
   "id": "8c5e34bb",
   "metadata": {},
   "source": [
    "I had trouble with this part of the assignment. I was not sure how to correctly place the histograms as well as adding both variables to each graph. I spent the most time on this part of the assignment, I am not sure if this is correct. \n",
    "\n",
    "\n",
    "### In Histogram 1, Planet Her, the valence level overall has higher values than the danceability level. \n",
    "\n",
    "### In Histogram 2, Gettin Old, the danceability level is higher than the valence level. \n",
    "\n",
    "\n",
    "I also got confused on the axis labeling for this part and how it representented the features. "
   ]
  },
  {
   "cell_type": "code",
   "execution_count": 73,
   "id": "0d2f18c1",
   "metadata": {},
   "outputs": [
    {
     "data": {
      "image/png": "[encoded data removed]",
      "text/plain": [
       "<Figure size 1000x500 with 2 Axes>"
      ]
     },
     "metadata": {},
     "output_type": "display_data"
    }
   ],
   "source": [
    "fig3, ax3 = plt.subplots(1, 2, figsize = (10, 5))\n",
    "ax3[0].scatter (x = doja_features_df['danceability'],\n",
    "            y = doja_features_df['valence'], \n",
    "                label = 'Planet Her',\n",
    "          color = 'magenta',\n",
    "            marker = 'x',\n",
    "           alpha = .5)\n",
    "ax3[1].scatter(x = luke_features_df['danceability'],\n",
    "            y = luke_features_df['valence'],\n",
    "               label = 'Gettin Old',\n",
    "           color = 'aqua',\n",
    "                marker = '*',\n",
    "           alpha = .5)\n",
    "ax3[0].set_xlabel('Danceability')\n",
    "ax3[0].set_ylabel('Valence')\n",
    "ax3[1].set_xlabel('Danceability')\n",
    "ax3[1].set_ylabel('Valence')\n",
    "ax3[0].set_title('Planet Her by Doja Cat')\n",
    "ax3[1].set_title('Gettin Old by Luke Combs')\n",
    "\n",
    "plt.show()"
   ]
  },
  {
   "cell_type": "markdown",
   "id": "11a6858f",
   "metadata": {},
   "source": [
    "Scatterplot 1, Planet Her, shows danceability on the x axis and valence on the y axis. To make the graph easier to read, I used the marker feature to change the shape of the points, changed the color, and used labels all to make my easier to read.  In these graphs, both features in each album look similar in value, but Planet her has higher values of both danceability and valence over Gettin Old."
   ]
  },
  {
   "cell_type": "code",
   "execution_count": 74,
   "id": "da89fff9",
   "metadata": {},
   "outputs": [
    {
     "data": {
      "image/png": "[encoded data removed]",
      "text/plain": [
       "<Figure size 640x480 with 1 Axes>"
      ]
     },
     "metadata": {},
     "output_type": "display_data"
    }
   ],
   "source": [
    "fig4, ax4 = plt.subplots()\n",
    "ax4.scatter (x = doja_features_df['danceability'],\n",
    "            y = doja_features_df['valence'],\n",
    "            label = 'Planet Her',\n",
    "           color = 'magenta',\n",
    "            marker = 'x',\n",
    "           alpha = .5)\n",
    "ax4.scatter(x = luke_features_df['danceability'],\n",
    "            y = luke_features_df['valence'],\n",
    "               label = 'Gettin Old',\n",
    "           color = 'aqua',\n",
    "                marker = '*',\n",
    "           alpha = .5)\n",
    "ax4.set_xlabel('Danceability')\n",
    "ax4.set_ylabel('Valence')\n",
    "ax4.set_xlabel('Danceability')\n",
    "ax4.set_ylabel('Valence')\n",
    "ax4.set_title('Planet Her by Doja Cat')\n",
    "ax4.set_title('Gettin Old by Luke Combs')\n",
    "\n",
    "ax4.set_title('Relationship between\\nDanceability and Valence in Planet Her and Gettin Old')\n",
    "ax4.legend()\n",
    "\n",
    "plt.show()"
   ]
  },
  {
   "cell_type": "markdown",
   "id": "3ece4540",
   "metadata": {},
   "source": [
    "In the scatterplot above, it is showing danceability and valence for both albums. To make this graph easier to read, I changed the color and shape of the points, added axis labels and a title, as well as a legend. This graph shows that Gettin' Old has lower danceability and low valence. Planet Her has higher danceability and higher valence. "
   ]
  },
  {
   "cell_type": "code",
   "execution_count": 75,
   "id": "ec9c00b9",
   "metadata": {},
   "outputs": [
    {
     "data": {
      "image/png": "[encoded data removed]",
      "text/plain": [
       "<Figure size 640x480 with 1 Axes>"
      ]
     },
     "metadata": {},
     "output_type": "display_data"
    }
   ],
   "source": [
    "ph_valence = doja_features_df['valence']\n",
    "go_valence = luke_features_df['valence']\n",
    "ph_xs = [1] * len(ph_valence)\n",
    "go_xs = [2] * len(go_valence)\n",
    "ph_x_jitter = np.random.uniform(-0.10, .10, len(ph_xs))\n",
    "go_x_jitter = np.random.uniform(-.10, .10, len(go_xs))\n",
    "\n",
    "fig5, ax5 = plt.subplots()\n",
    "ax5.boxplot(ph_valence, positions = [1])\n",
    "ax5.boxplot(go_valence, positions = [2])\n",
    "ax5.scatter(ph_xs + ph_x_jitter, ph_valence, alpha = .5)\n",
    "ax5.scatter(go_xs + go_x_jitter, go_valence, alpha = .5)\n",
    "\n",
    "\n",
    "plt.show()"
   ]
  },
  {
   "cell_type": "markdown",
   "id": "db93bb2b",
   "metadata": {},
   "source": [
    "The box-scatter plots show valence for Planet Her and Gettin Old. The box-scatter plot show that planet her has higher valence values than Gettin Old. Having a higher valence means the level of happiness is higher. The points within plot 1 have a pretty big wide range of values. There are only about three songs that have a low valence, but the rest are pretty high."
   ]
  },
  {
   "cell_type": "code",
   "execution_count": 76,
   "id": "68a9d85a",
   "metadata": {},
   "outputs": [],
   "source": [
    "valence_ttest = stats.ttest_ind(ph_valence, go_valence)"
   ]
  },
  {
   "cell_type": "code",
   "execution_count": 77,
   "id": "dbeae922",
   "metadata": {},
   "outputs": [
    {
     "data": {
      "text/plain": [
       "1.7145739421191222"
      ]
     },
     "execution_count": 77,
     "metadata": {},
     "output_type": "execute_result"
    }
   ],
   "source": [
    "valence_ttest.statistic"
   ]
  },
  {
   "cell_type": "code",
   "execution_count": 78,
   "id": "9a67eec1",
   "metadata": {},
   "outputs": [
    {
     "data": {
      "text/plain": [
       "0.09674"
      ]
     },
     "execution_count": 78,
     "metadata": {},
     "output_type": "execute_result"
    }
   ],
   "source": [
    "round(valence_ttest.pvalue, 5)"
   ]
  },
  {
   "cell_type": "markdown",
   "id": "3328f95a",
   "metadata": {},
   "source": [
    "The test results show that the comparison between this data is not significant. The p-value is higher than .05 which is the commonly used significance model. Therefore, there is not enough evidence to show a signifcant difference in between the valence and danceability in Planet Her and Gettin Old."
   ]
  }
 ],
 "metadata": {
  "kernelspec": {
   "display_name": "Python 3 (ipykernel)",
   "language": "python",
   "name": "python3"
  },
  "language_info": {
   "codemirror_mode": {
    "name": "ipython",
    "version": 3
   },
   "file_extension": ".py",
   "mimetype": "text/x-python",
   "name": "python",
   "nbconvert_exporter": "python",
   "pygments_lexer": "ipython3",
   "version": "3.11.4"
  }
 },
 "nbformat": 4,
 "nbformat_minor": 5
}
