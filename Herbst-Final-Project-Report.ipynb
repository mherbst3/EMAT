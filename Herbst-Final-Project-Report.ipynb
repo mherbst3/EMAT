{
 "cells": [
  {
   "cell_type": "markdown",
   "id": "cc5ac13c",
   "metadata": {},
   "source": [
    "# A Data-Driven Exploration of Movie Success Factors\n",
    "### Melaina Herbst \n",
    "\n",
    "\n",
    "For my final project, I am analyzing movie data.I have collected a movie dataset from TMBd. I decided to analyze movie data because I have always had an interest in movies. Not only the movie itself, but the process of making movies, all of the elements that go into film-making, and the movie industry as a whole.\n",
    "\n",
    "Data source: TMBd \n",
    "https://www.kaggle.com/datasets/juzershakir/tmdb-movies-dataset \n",
    "\n",
    "\n",
    "\n",
    "The dataset includes 10,866 movies released in the years 1966-2015. This dataset has 21 different details about each movie that are shown as columns. This data can be used to predict future trends and outcomes in the Movie industry as well. \n",
    "\n",
    "\n",
    "Movie data can be analyzed in many different ways. Throughout my analysis, my goal is to identify trends within the data that can be applied to future movie releases. Below are questions I hope to answer with my data analysis. \n",
    "\n",
    "\n",
    "#### How many films were released per year? \n",
    "\n",
    "#### Do higher-budget films generally receive better ratings?\n",
    "\n",
    "#### Is there a correlation between the duration of a movie and its rating? \n",
    "\n",
    "#### Are there trends in ratings based on the month or season of a movie's release?\n",
    "\n",
    "\n",
    "In this dataset, I have cleaned the data to eliminate any rows and columns that are unnecessary for my analysis. The dataset started with 10,866 rows and 21 columns. Each row in this dataset represents one movie and each column represents one characteristic about a movie. Not all columns are necessary for my analysis, so I have removed 7 of the columns that do not hold any importance. This has brought my column number down to 7. \n",
    "\n",
    "\n",
    "Throughout my project, I ran into a few errors when dealing with duplicate movie titles. To eliminate the errors, I removed all duplicate movie titles in the dataset. To prevent additional errors in my analysis, I removed all rows where there was a value of \"0\" in the budget and revenue column. These incomplete values would have altered my dataset and affected the outcome. Before the removal of unwanted data, the dataset contained 10,866 movies. After removing all unnecessary columns and rows, my data set contains 3,618 movies. The total amount of rows removed is 7,248. \n",
    "\n",
    "\n",
    "Rows: 3,618\n",
    "Columns: 14"
   ]
  },
  {
   "cell_type": "code",
   "execution_count": 71,
   "id": "0dc2c567",
   "metadata": {},
   "outputs": [],
   "source": [
    "import pandas as pd\n",
    "import numpy as np\n",
    "from scipy import stats\n",
    "from matplotlib import pyplot as plt\n",
    "import requests \n",
    "import base64\n",
    "import urllib \n",
    "from datetime import datetime"
   ]
  },
  {
   "cell_type": "markdown",
   "id": "d555fbc1",
   "metadata": {},
   "source": [
    "To import my data, I did so through a csv file from tmbd. "
   ]
  },
  {
   "cell_type": "code",
   "execution_count": 72,
   "id": "12a0c728",
   "metadata": {},
   "outputs": [],
   "source": [
    "tmbd_movie_data = pd.read_csv('tmdb_movies_data.csv')"
   ]
  },
  {
   "cell_type": "code",
   "execution_count": 73,
   "id": "fb073732",
   "metadata": {},
   "outputs": [],
   "source": [
    "tmbd_movie_data.drop_duplicates(subset=\"original_title\", \n",
    "                     keep=False, inplace=True)"
   ]
  },
  {
   "cell_type": "markdown",
   "id": "3f9f845a",
   "metadata": {},
   "source": [
    "In the line above, it shows the process of removing duplicate movie titles from the dataframe. Throughout this project, I ran into a few issues as I was working through my code. One main problem stemmed from having duplicate movies in my dataset. It took a while to figure out the issue, but as soon as I figured out the issue  and added the above code, the problem went away. After removing movie duplicates, the total amount of rows is 10,294. In this dataset, there was 572 duplicate movies. "
   ]
  },
  {
   "cell_type": "code",
   "execution_count": 74,
   "id": "eeb9eb2c",
   "metadata": {},
   "outputs": [
    {
     "data": {
      "text/plain": [
       "(10294, 21)"
      ]
     },
     "execution_count": 74,
     "metadata": {},
     "output_type": "execute_result"
    }
   ],
   "source": [
    "tmbd_movie_data.shape"
   ]
  },
  {
   "cell_type": "code",
   "execution_count": 75,
   "id": "576a3fe0",
   "metadata": {},
   "outputs": [
    {
     "data": {
      "text/html": [
       "<div>\n",
       "<style scoped>\n",
       "    .dataframe tbody tr th:only-of-type {\n",
       "        vertical-align: middle;\n",
       "    }\n",
       "\n",
       "    .dataframe tbody tr th {\n",
       "        vertical-align: top;\n",
       "    }\n",
       "\n",
       "    .dataframe thead th {\n",
       "        text-align: right;\n",
       "    }\n",
       "</style>\n",
       "<table border=\"1\" class=\"dataframe\">\n",
       "  <thead>\n",
       "    <tr style=\"text-align: right;\">\n",
       "      <th></th>\n",
       "      <th>id</th>\n",
       "      <th>imdb_id</th>\n",
       "      <th>popularity</th>\n",
       "      <th>budget</th>\n",
       "      <th>revenue</th>\n",
       "      <th>original_title</th>\n",
       "      <th>cast</th>\n",
       "      <th>homepage</th>\n",
       "      <th>director</th>\n",
       "      <th>tagline</th>\n",
       "      <th>...</th>\n",
       "      <th>overview</th>\n",
       "      <th>runtime</th>\n",
       "      <th>genres</th>\n",
       "      <th>production_companies</th>\n",
       "      <th>release_date</th>\n",
       "      <th>vote_count</th>\n",
       "      <th>vote_average</th>\n",
       "      <th>release_year</th>\n",
       "      <th>budget_adj</th>\n",
       "      <th>revenue_adj</th>\n",
       "    </tr>\n",
       "  </thead>\n",
       "  <tbody>\n",
       "    <tr>\n",
       "      <th>0</th>\n",
       "      <td>135397</td>\n",
       "      <td>tt0369610</td>\n",
       "      <td>32.985763</td>\n",
       "      <td>150000000</td>\n",
       "      <td>1513528810</td>\n",
       "      <td>Jurassic World</td>\n",
       "      <td>Chris Pratt|Bryce Dallas Howard|Irrfan Khan|Vi...</td>\n",
       "      <td>http://www.jurassicworld.com/</td>\n",
       "      <td>Colin Trevorrow</td>\n",
       "      <td>The park is open.</td>\n",
       "      <td>...</td>\n",
       "      <td>Twenty-two years after the events of Jurassic ...</td>\n",
       "      <td>124</td>\n",
       "      <td>Action|Adventure|Science Fiction|Thriller</td>\n",
       "      <td>Universal Studios|Amblin Entertainment|Legenda...</td>\n",
       "      <td>6/9/2015</td>\n",
       "      <td>5562</td>\n",
       "      <td>6.5</td>\n",
       "      <td>2015</td>\n",
       "      <td>137999939.3</td>\n",
       "      <td>1.392446e+09</td>\n",
       "    </tr>\n",
       "    <tr>\n",
       "      <th>1</th>\n",
       "      <td>76341</td>\n",
       "      <td>tt1392190</td>\n",
       "      <td>28.419936</td>\n",
       "      <td>150000000</td>\n",
       "      <td>378436354</td>\n",
       "      <td>Mad Max: Fury Road</td>\n",
       "      <td>Tom Hardy|Charlize Theron|Hugh Keays-Byrne|Nic...</td>\n",
       "      <td>http://www.madmaxmovie.com/</td>\n",
       "      <td>George Miller</td>\n",
       "      <td>What a Lovely Day.</td>\n",
       "      <td>...</td>\n",
       "      <td>An apocalyptic story set in the furthest reach...</td>\n",
       "      <td>120</td>\n",
       "      <td>Action|Adventure|Science Fiction|Thriller</td>\n",
       "      <td>Village Roadshow Pictures|Kennedy Miller Produ...</td>\n",
       "      <td>5/13/2015</td>\n",
       "      <td>6185</td>\n",
       "      <td>7.1</td>\n",
       "      <td>2015</td>\n",
       "      <td>137999939.3</td>\n",
       "      <td>3.481613e+08</td>\n",
       "    </tr>\n",
       "    <tr>\n",
       "      <th>2</th>\n",
       "      <td>262500</td>\n",
       "      <td>tt2908446</td>\n",
       "      <td>13.112507</td>\n",
       "      <td>110000000</td>\n",
       "      <td>295238201</td>\n",
       "      <td>Insurgent</td>\n",
       "      <td>Shailene Woodley|Theo James|Kate Winslet|Ansel...</td>\n",
       "      <td>http://www.thedivergentseries.movie/#insurgent</td>\n",
       "      <td>Robert Schwentke</td>\n",
       "      <td>One Choice Can Destroy You</td>\n",
       "      <td>...</td>\n",
       "      <td>Beatrice Prior must confront her inner demons ...</td>\n",
       "      <td>119</td>\n",
       "      <td>Adventure|Science Fiction|Thriller</td>\n",
       "      <td>Summit Entertainment|Mandeville Films|Red Wago...</td>\n",
       "      <td>3/18/2015</td>\n",
       "      <td>2480</td>\n",
       "      <td>6.3</td>\n",
       "      <td>2015</td>\n",
       "      <td>101199955.5</td>\n",
       "      <td>2.716190e+08</td>\n",
       "    </tr>\n",
       "    <tr>\n",
       "      <th>3</th>\n",
       "      <td>140607</td>\n",
       "      <td>tt2488496</td>\n",
       "      <td>11.173104</td>\n",
       "      <td>200000000</td>\n",
       "      <td>2068178225</td>\n",
       "      <td>Star Wars: The Force Awakens</td>\n",
       "      <td>Harrison Ford|Mark Hamill|Carrie Fisher|Adam D...</td>\n",
       "      <td>http://www.starwars.com/films/star-wars-episod...</td>\n",
       "      <td>J.J. Abrams</td>\n",
       "      <td>Every generation has a story.</td>\n",
       "      <td>...</td>\n",
       "      <td>Thirty years after defeating the Galactic Empi...</td>\n",
       "      <td>136</td>\n",
       "      <td>Action|Adventure|Science Fiction|Fantasy</td>\n",
       "      <td>Lucasfilm|Truenorth Productions|Bad Robot</td>\n",
       "      <td>12/15/2015</td>\n",
       "      <td>5292</td>\n",
       "      <td>7.5</td>\n",
       "      <td>2015</td>\n",
       "      <td>183999919.0</td>\n",
       "      <td>1.902723e+09</td>\n",
       "    </tr>\n",
       "    <tr>\n",
       "      <th>4</th>\n",
       "      <td>168259</td>\n",
       "      <td>tt2820852</td>\n",
       "      <td>9.335014</td>\n",
       "      <td>190000000</td>\n",
       "      <td>1506249360</td>\n",
       "      <td>Furious 7</td>\n",
       "      <td>Vin Diesel|Paul Walker|Jason Statham|Michelle ...</td>\n",
       "      <td>http://www.furious7.com/</td>\n",
       "      <td>James Wan</td>\n",
       "      <td>Vengeance Hits Home</td>\n",
       "      <td>...</td>\n",
       "      <td>Deckard Shaw seeks revenge against Dominic Tor...</td>\n",
       "      <td>137</td>\n",
       "      <td>Action|Crime|Thriller</td>\n",
       "      <td>Universal Pictures|Original Film|Media Rights ...</td>\n",
       "      <td>4/1/2015</td>\n",
       "      <td>2947</td>\n",
       "      <td>7.3</td>\n",
       "      <td>2015</td>\n",
       "      <td>174799923.1</td>\n",
       "      <td>1.385749e+09</td>\n",
       "    </tr>\n",
       "  </tbody>\n",
       "</table>\n",
       "<p>5 rows × 21 columns</p>\n",
       "</div>"
      ],
      "text/plain": [
       "       id    imdb_id  popularity     budget     revenue  \\\n",
       "0  135397  tt0369610   32.985763  150000000  1513528810   \n",
       "1   76341  tt1392190   28.419936  150000000   378436354   \n",
       "2  262500  tt2908446   13.112507  110000000   295238201   \n",
       "3  140607  tt2488496   11.173104  200000000  2068178225   \n",
       "4  168259  tt2820852    9.335014  190000000  1506249360   \n",
       "\n",
       "                 original_title  \\\n",
       "0                Jurassic World   \n",
       "1            Mad Max: Fury Road   \n",
       "2                     Insurgent   \n",
       "3  Star Wars: The Force Awakens   \n",
       "4                     Furious 7   \n",
       "\n",
       "                                                cast  \\\n",
       "0  Chris Pratt|Bryce Dallas Howard|Irrfan Khan|Vi...   \n",
       "1  Tom Hardy|Charlize Theron|Hugh Keays-Byrne|Nic...   \n",
       "2  Shailene Woodley|Theo James|Kate Winslet|Ansel...   \n",
       "3  Harrison Ford|Mark Hamill|Carrie Fisher|Adam D...   \n",
       "4  Vin Diesel|Paul Walker|Jason Statham|Michelle ...   \n",
       "\n",
       "                                            homepage          director  \\\n",
       "0                      http://www.jurassicworld.com/   Colin Trevorrow   \n",
       "1                        http://www.madmaxmovie.com/     George Miller   \n",
       "2     http://www.thedivergentseries.movie/#insurgent  Robert Schwentke   \n",
       "3  http://www.starwars.com/films/star-wars-episod...       J.J. Abrams   \n",
       "4                           http://www.furious7.com/         James Wan   \n",
       "\n",
       "                         tagline  ...  \\\n",
       "0              The park is open.  ...   \n",
       "1             What a Lovely Day.  ...   \n",
       "2     One Choice Can Destroy You  ...   \n",
       "3  Every generation has a story.  ...   \n",
       "4            Vengeance Hits Home  ...   \n",
       "\n",
       "                                            overview runtime  \\\n",
       "0  Twenty-two years after the events of Jurassic ...     124   \n",
       "1  An apocalyptic story set in the furthest reach...     120   \n",
       "2  Beatrice Prior must confront her inner demons ...     119   \n",
       "3  Thirty years after defeating the Galactic Empi...     136   \n",
       "4  Deckard Shaw seeks revenge against Dominic Tor...     137   \n",
       "\n",
       "                                      genres  \\\n",
       "0  Action|Adventure|Science Fiction|Thriller   \n",
       "1  Action|Adventure|Science Fiction|Thriller   \n",
       "2         Adventure|Science Fiction|Thriller   \n",
       "3   Action|Adventure|Science Fiction|Fantasy   \n",
       "4                      Action|Crime|Thriller   \n",
       "\n",
       "                                production_companies release_date vote_count  \\\n",
       "0  Universal Studios|Amblin Entertainment|Legenda...     6/9/2015       5562   \n",
       "1  Village Roadshow Pictures|Kennedy Miller Produ...    5/13/2015       6185   \n",
       "2  Summit Entertainment|Mandeville Films|Red Wago...    3/18/2015       2480   \n",
       "3          Lucasfilm|Truenorth Productions|Bad Robot   12/15/2015       5292   \n",
       "4  Universal Pictures|Original Film|Media Rights ...     4/1/2015       2947   \n",
       "\n",
       "   vote_average  release_year   budget_adj   revenue_adj  \n",
       "0           6.5          2015  137999939.3  1.392446e+09  \n",
       "1           7.1          2015  137999939.3  3.481613e+08  \n",
       "2           6.3          2015  101199955.5  2.716190e+08  \n",
       "3           7.5          2015  183999919.0  1.902723e+09  \n",
       "4           7.3          2015  174799923.1  1.385749e+09  \n",
       "\n",
       "[5 rows x 21 columns]"
      ]
     },
     "execution_count": 75,
     "metadata": {},
     "output_type": "execute_result"
    }
   ],
   "source": [
    "tmbd_movie_data.head()"
   ]
  },
  {
   "cell_type": "code",
   "execution_count": 76,
   "id": "298a22cc",
   "metadata": {},
   "outputs": [],
   "source": [
    "clean_all_movies_df = tmbd_movie_data.drop(columns= ['imdb_id', 'homepage', 'tagline', 'overview', 'keywords', 'budget_adj', 'revenue_adj'])"
   ]
  },
  {
   "cell_type": "markdown",
   "id": "86bb5d9d",
   "metadata": {},
   "source": [
    "Throughout this dataset, there were many unnecessary columns that would not be important to my project. To make the data easier to read and work with I removed seven columns. Many rows had insufficent values for these columns, which would have negatively impacted my analysis. After removing unwanted columns, there is a total of 14. "
   ]
  },
  {
   "cell_type": "code",
   "execution_count": 77,
   "id": "90637a04",
   "metadata": {
    "scrolled": true
   },
   "outputs": [
    {
     "data": {
      "text/html": [
       "<div>\n",
       "<style scoped>\n",
       "    .dataframe tbody tr th:only-of-type {\n",
       "        vertical-align: middle;\n",
       "    }\n",
       "\n",
       "    .dataframe tbody tr th {\n",
       "        vertical-align: top;\n",
       "    }\n",
       "\n",
       "    .dataframe thead th {\n",
       "        text-align: right;\n",
       "    }\n",
       "</style>\n",
       "<table border=\"1\" class=\"dataframe\">\n",
       "  <thead>\n",
       "    <tr style=\"text-align: right;\">\n",
       "      <th></th>\n",
       "      <th>id</th>\n",
       "      <th>popularity</th>\n",
       "      <th>budget</th>\n",
       "      <th>revenue</th>\n",
       "      <th>original_title</th>\n",
       "      <th>cast</th>\n",
       "      <th>director</th>\n",
       "      <th>runtime</th>\n",
       "      <th>genres</th>\n",
       "      <th>production_companies</th>\n",
       "      <th>release_date</th>\n",
       "      <th>vote_count</th>\n",
       "      <th>vote_average</th>\n",
       "      <th>release_year</th>\n",
       "    </tr>\n",
       "  </thead>\n",
       "  <tbody>\n",
       "    <tr>\n",
       "      <th>0</th>\n",
       "      <td>135397</td>\n",
       "      <td>32.985763</td>\n",
       "      <td>150000000</td>\n",
       "      <td>1513528810</td>\n",
       "      <td>Jurassic World</td>\n",
       "      <td>Chris Pratt|Bryce Dallas Howard|Irrfan Khan|Vi...</td>\n",
       "      <td>Colin Trevorrow</td>\n",
       "      <td>124</td>\n",
       "      <td>Action|Adventure|Science Fiction|Thriller</td>\n",
       "      <td>Universal Studios|Amblin Entertainment|Legenda...</td>\n",
       "      <td>6/9/2015</td>\n",
       "      <td>5562</td>\n",
       "      <td>6.5</td>\n",
       "      <td>2015</td>\n",
       "    </tr>\n",
       "    <tr>\n",
       "      <th>1</th>\n",
       "      <td>76341</td>\n",
       "      <td>28.419936</td>\n",
       "      <td>150000000</td>\n",
       "      <td>378436354</td>\n",
       "      <td>Mad Max: Fury Road</td>\n",
       "      <td>Tom Hardy|Charlize Theron|Hugh Keays-Byrne|Nic...</td>\n",
       "      <td>George Miller</td>\n",
       "      <td>120</td>\n",
       "      <td>Action|Adventure|Science Fiction|Thriller</td>\n",
       "      <td>Village Roadshow Pictures|Kennedy Miller Produ...</td>\n",
       "      <td>5/13/2015</td>\n",
       "      <td>6185</td>\n",
       "      <td>7.1</td>\n",
       "      <td>2015</td>\n",
       "    </tr>\n",
       "    <tr>\n",
       "      <th>2</th>\n",
       "      <td>262500</td>\n",
       "      <td>13.112507</td>\n",
       "      <td>110000000</td>\n",
       "      <td>295238201</td>\n",
       "      <td>Insurgent</td>\n",
       "      <td>Shailene Woodley|Theo James|Kate Winslet|Ansel...</td>\n",
       "      <td>Robert Schwentke</td>\n",
       "      <td>119</td>\n",
       "      <td>Adventure|Science Fiction|Thriller</td>\n",
       "      <td>Summit Entertainment|Mandeville Films|Red Wago...</td>\n",
       "      <td>3/18/2015</td>\n",
       "      <td>2480</td>\n",
       "      <td>6.3</td>\n",
       "      <td>2015</td>\n",
       "    </tr>\n",
       "    <tr>\n",
       "      <th>3</th>\n",
       "      <td>140607</td>\n",
       "      <td>11.173104</td>\n",
       "      <td>200000000</td>\n",
       "      <td>2068178225</td>\n",
       "      <td>Star Wars: The Force Awakens</td>\n",
       "      <td>Harrison Ford|Mark Hamill|Carrie Fisher|Adam D...</td>\n",
       "      <td>J.J. Abrams</td>\n",
       "      <td>136</td>\n",
       "      <td>Action|Adventure|Science Fiction|Fantasy</td>\n",
       "      <td>Lucasfilm|Truenorth Productions|Bad Robot</td>\n",
       "      <td>12/15/2015</td>\n",
       "      <td>5292</td>\n",
       "      <td>7.5</td>\n",
       "      <td>2015</td>\n",
       "    </tr>\n",
       "    <tr>\n",
       "      <th>4</th>\n",
       "      <td>168259</td>\n",
       "      <td>9.335014</td>\n",
       "      <td>190000000</td>\n",
       "      <td>1506249360</td>\n",
       "      <td>Furious 7</td>\n",
       "      <td>Vin Diesel|Paul Walker|Jason Statham|Michelle ...</td>\n",
       "      <td>James Wan</td>\n",
       "      <td>137</td>\n",
       "      <td>Action|Crime|Thriller</td>\n",
       "      <td>Universal Pictures|Original Film|Media Rights ...</td>\n",
       "      <td>4/1/2015</td>\n",
       "      <td>2947</td>\n",
       "      <td>7.3</td>\n",
       "      <td>2015</td>\n",
       "    </tr>\n",
       "  </tbody>\n",
       "</table>\n",
       "</div>"
      ],
      "text/plain": [
       "       id  popularity     budget     revenue                original_title  \\\n",
       "0  135397   32.985763  150000000  1513528810                Jurassic World   \n",
       "1   76341   28.419936  150000000   378436354            Mad Max: Fury Road   \n",
       "2  262500   13.112507  110000000   295238201                     Insurgent   \n",
       "3  140607   11.173104  200000000  2068178225  Star Wars: The Force Awakens   \n",
       "4  168259    9.335014  190000000  1506249360                     Furious 7   \n",
       "\n",
       "                                                cast          director  \\\n",
       "0  Chris Pratt|Bryce Dallas Howard|Irrfan Khan|Vi...   Colin Trevorrow   \n",
       "1  Tom Hardy|Charlize Theron|Hugh Keays-Byrne|Nic...     George Miller   \n",
       "2  Shailene Woodley|Theo James|Kate Winslet|Ansel...  Robert Schwentke   \n",
       "3  Harrison Ford|Mark Hamill|Carrie Fisher|Adam D...       J.J. Abrams   \n",
       "4  Vin Diesel|Paul Walker|Jason Statham|Michelle ...         James Wan   \n",
       "\n",
       "   runtime                                     genres  \\\n",
       "0      124  Action|Adventure|Science Fiction|Thriller   \n",
       "1      120  Action|Adventure|Science Fiction|Thriller   \n",
       "2      119         Adventure|Science Fiction|Thriller   \n",
       "3      136   Action|Adventure|Science Fiction|Fantasy   \n",
       "4      137                      Action|Crime|Thriller   \n",
       "\n",
       "                                production_companies release_date  vote_count  \\\n",
       "0  Universal Studios|Amblin Entertainment|Legenda...     6/9/2015        5562   \n",
       "1  Village Roadshow Pictures|Kennedy Miller Produ...    5/13/2015        6185   \n",
       "2  Summit Entertainment|Mandeville Films|Red Wago...    3/18/2015        2480   \n",
       "3          Lucasfilm|Truenorth Productions|Bad Robot   12/15/2015        5292   \n",
       "4  Universal Pictures|Original Film|Media Rights ...     4/1/2015        2947   \n",
       "\n",
       "   vote_average  release_year  \n",
       "0           6.5          2015  \n",
       "1           7.1          2015  \n",
       "2           6.3          2015  \n",
       "3           7.5          2015  \n",
       "4           7.3          2015  "
      ]
     },
     "execution_count": 77,
     "metadata": {},
     "output_type": "execute_result"
    }
   ],
   "source": [
    "clean_all_movies_df.head()"
   ]
  },
  {
   "cell_type": "markdown",
   "id": "c01ab238",
   "metadata": {},
   "source": [
    "To ensure I had eliminated all duplicates in my dataframe, I used the functions below to see each row and each column. \n",
    "\n",
    "pd.set_option('display.max_rows', None)\n",
    "pd.set_option('display.max_columns', None)"
   ]
  },
  {
   "cell_type": "code",
   "execution_count": 78,
   "id": "1e728af8",
   "metadata": {},
   "outputs": [],
   "source": [
    "budget_drop_df = clean_all_movies_df[clean_all_movies_df.budget != 0]"
   ]
  },
  {
   "cell_type": "code",
   "execution_count": 79,
   "id": "c7a8d2c3",
   "metadata": {},
   "outputs": [
    {
     "data": {
      "text/plain": [
       "(4868, 14)"
      ]
     },
     "execution_count": 79,
     "metadata": {},
     "output_type": "execute_result"
    }
   ],
   "source": [
    "budget_drop_df.shape"
   ]
  },
  {
   "cell_type": "markdown",
   "id": "7f615802",
   "metadata": {},
   "source": [
    "After removing all rows in my dataset with a budget of zero, my data set has 4,868 columns. There were 5,426 movies that had a budget of zero or an insignificant value."
   ]
  },
  {
   "cell_type": "code",
   "execution_count": 80,
   "id": "2ccbda26",
   "metadata": {},
   "outputs": [],
   "source": [
    "budg_rev_drop_df = budget_drop_df[budget_drop_df.revenue != 0]"
   ]
  },
  {
   "cell_type": "code",
   "execution_count": 81,
   "id": "c17d05e3",
   "metadata": {},
   "outputs": [
    {
     "data": {
      "text/plain": [
       "(3618, 14)"
      ]
     },
     "execution_count": 81,
     "metadata": {},
     "output_type": "execute_result"
    }
   ],
   "source": [
    "budg_rev_drop_df.shape"
   ]
  },
  {
   "cell_type": "markdown",
   "id": "169dcd94",
   "metadata": {},
   "source": [
    "After removing all rows with a revenue of zero, my data set has 3,618 rows. There was 1,250 movies with a revenue of zero or an insignificant value. This was the last removal of data throughout my analysis. The final data shape is 3,618 rows and 14 columns. "
   ]
  },
  {
   "cell_type": "markdown",
   "id": "0df5624e",
   "metadata": {},
   "source": [
    "The two dataframes above show the removal of each movie with a budget and/or revenue of zero. By these rows having zero values, it would affect the accuracy of my results. Removing these columns not only helped clean my dataset, it also condensed it quite a bit as well. Eliminating even more rows that are unecessary for my analysis made it easier to work with the data. "
   ]
  },
  {
   "cell_type": "code",
   "execution_count": 82,
   "id": "9ecf5e7f",
   "metadata": {},
   "outputs": [],
   "source": [
    "name_group = budg_rev_drop_df.groupby('original_title').sum()"
   ]
  },
  {
   "cell_type": "code",
   "execution_count": 83,
   "id": "32c316ac",
   "metadata": {},
   "outputs": [
    {
     "data": {
      "text/html": [
       "<div>\n",
       "<style scoped>\n",
       "    .dataframe tbody tr th:only-of-type {\n",
       "        vertical-align: middle;\n",
       "    }\n",
       "\n",
       "    .dataframe tbody tr th {\n",
       "        vertical-align: top;\n",
       "    }\n",
       "\n",
       "    .dataframe thead th {\n",
       "        text-align: right;\n",
       "    }\n",
       "</style>\n",
       "<table border=\"1\" class=\"dataframe\">\n",
       "  <thead>\n",
       "    <tr style=\"text-align: right;\">\n",
       "      <th></th>\n",
       "      <th>id</th>\n",
       "      <th>popularity</th>\n",
       "      <th>budget</th>\n",
       "      <th>revenue</th>\n",
       "      <th>cast</th>\n",
       "      <th>director</th>\n",
       "      <th>runtime</th>\n",
       "      <th>genres</th>\n",
       "      <th>production_companies</th>\n",
       "      <th>release_date</th>\n",
       "      <th>vote_count</th>\n",
       "      <th>vote_average</th>\n",
       "      <th>release_year</th>\n",
       "    </tr>\n",
       "    <tr>\n",
       "      <th>original_title</th>\n",
       "      <th></th>\n",
       "      <th></th>\n",
       "      <th></th>\n",
       "      <th></th>\n",
       "      <th></th>\n",
       "      <th></th>\n",
       "      <th></th>\n",
       "      <th></th>\n",
       "      <th></th>\n",
       "      <th></th>\n",
       "      <th></th>\n",
       "      <th></th>\n",
       "      <th></th>\n",
       "    </tr>\n",
       "  </thead>\n",
       "  <tbody>\n",
       "    <tr>\n",
       "      <th>(500) Days of Summer</th>\n",
       "      <td>19913</td>\n",
       "      <td>3.244139</td>\n",
       "      <td>7500000</td>\n",
       "      <td>60722734</td>\n",
       "      <td>Joseph Gordon-Levitt|Zooey Deschanel|ChloÃ« Gr...</td>\n",
       "      <td>Marc Webb</td>\n",
       "      <td>95</td>\n",
       "      <td>Comedy|Drama|Romance</td>\n",
       "      <td>Fox Searchlight Pictures|Watermark|Dune Entert...</td>\n",
       "      <td>7/17/2009</td>\n",
       "      <td>1778</td>\n",
       "      <td>7.3</td>\n",
       "      <td>2009</td>\n",
       "    </tr>\n",
       "    <tr>\n",
       "      <th>10 Things I Hate About You</th>\n",
       "      <td>4951</td>\n",
       "      <td>1.769152</td>\n",
       "      <td>16000000</td>\n",
       "      <td>53478166</td>\n",
       "      <td>Julia Stiles|Heath Ledger|Joseph Gordon-Levitt...</td>\n",
       "      <td>Gil Junger</td>\n",
       "      <td>97</td>\n",
       "      <td>Comedy|Romance|Drama</td>\n",
       "      <td>Mad Chance|Jaret Entertainment|Touchstone Pict...</td>\n",
       "      <td>3/30/1999</td>\n",
       "      <td>947</td>\n",
       "      <td>7.2</td>\n",
       "      <td>1999</td>\n",
       "    </tr>\n",
       "    <tr>\n",
       "      <th>10,000 BC</th>\n",
       "      <td>7840</td>\n",
       "      <td>1.841839</td>\n",
       "      <td>105000000</td>\n",
       "      <td>266000000</td>\n",
       "      <td>Steven Strait|Camilla Belle|Cliff Curtis|Natha...</td>\n",
       "      <td>Roland Emmerich</td>\n",
       "      <td>109</td>\n",
       "      <td>Adventure|Action|Drama|Fantasy</td>\n",
       "      <td>Centropolis Entertainment|Legendary Pictures|W...</td>\n",
       "      <td>2/22/2008</td>\n",
       "      <td>586</td>\n",
       "      <td>5.2</td>\n",
       "      <td>2008</td>\n",
       "    </tr>\n",
       "    <tr>\n",
       "      <th>101 Dalmatians</th>\n",
       "      <td>11674</td>\n",
       "      <td>1.419885</td>\n",
       "      <td>54000000</td>\n",
       "      <td>320689294</td>\n",
       "      <td>Glenn Close|Jeff Daniels|Joely Richardson|Joan...</td>\n",
       "      <td>Stephen Herek</td>\n",
       "      <td>103</td>\n",
       "      <td>Comedy|Family</td>\n",
       "      <td>Walt Disney Pictures|Great Oaks Entertainment</td>\n",
       "      <td>11/17/1996</td>\n",
       "      <td>367</td>\n",
       "      <td>5.5</td>\n",
       "      <td>1996</td>\n",
       "    </tr>\n",
       "    <tr>\n",
       "      <th>102 Dalmatians</th>\n",
       "      <td>10481</td>\n",
       "      <td>0.410235</td>\n",
       "      <td>85000000</td>\n",
       "      <td>183611771</td>\n",
       "      <td>Glenn Close|Ioan Gruffudd|Alice Evans|Tim McIn...</td>\n",
       "      <td>Kevin Lima</td>\n",
       "      <td>100</td>\n",
       "      <td>Comedy|Family</td>\n",
       "      <td>Walt Disney Pictures|Cruella Productions</td>\n",
       "      <td>10/7/2000</td>\n",
       "      <td>150</td>\n",
       "      <td>5.0</td>\n",
       "      <td>2000</td>\n",
       "    </tr>\n",
       "  </tbody>\n",
       "</table>\n",
       "</div>"
      ],
      "text/plain": [
       "                               id  popularity     budget    revenue  \\\n",
       "original_title                                                        \n",
       "(500) Days of Summer        19913    3.244139    7500000   60722734   \n",
       "10 Things I Hate About You   4951    1.769152   16000000   53478166   \n",
       "10,000 BC                    7840    1.841839  105000000  266000000   \n",
       "101 Dalmatians              11674    1.419885   54000000  320689294   \n",
       "102 Dalmatians              10481    0.410235   85000000  183611771   \n",
       "\n",
       "                                                                         cast  \\\n",
       "original_title                                                                  \n",
       "(500) Days of Summer        Joseph Gordon-Levitt|Zooey Deschanel|ChloÃ« Gr...   \n",
       "10 Things I Hate About You  Julia Stiles|Heath Ledger|Joseph Gordon-Levitt...   \n",
       "10,000 BC                   Steven Strait|Camilla Belle|Cliff Curtis|Natha...   \n",
       "101 Dalmatians              Glenn Close|Jeff Daniels|Joely Richardson|Joan...   \n",
       "102 Dalmatians              Glenn Close|Ioan Gruffudd|Alice Evans|Tim McIn...   \n",
       "\n",
       "                                   director  runtime  \\\n",
       "original_title                                         \n",
       "(500) Days of Summer              Marc Webb       95   \n",
       "10 Things I Hate About You       Gil Junger       97   \n",
       "10,000 BC                   Roland Emmerich      109   \n",
       "101 Dalmatians                Stephen Herek      103   \n",
       "102 Dalmatians                   Kevin Lima      100   \n",
       "\n",
       "                                                    genres  \\\n",
       "original_title                                               \n",
       "(500) Days of Summer                  Comedy|Drama|Romance   \n",
       "10 Things I Hate About You            Comedy|Romance|Drama   \n",
       "10,000 BC                   Adventure|Action|Drama|Fantasy   \n",
       "101 Dalmatians                               Comedy|Family   \n",
       "102 Dalmatians                               Comedy|Family   \n",
       "\n",
       "                                                         production_companies  \\\n",
       "original_title                                                                  \n",
       "(500) Days of Summer        Fox Searchlight Pictures|Watermark|Dune Entert...   \n",
       "10 Things I Hate About You  Mad Chance|Jaret Entertainment|Touchstone Pict...   \n",
       "10,000 BC                   Centropolis Entertainment|Legendary Pictures|W...   \n",
       "101 Dalmatians                  Walt Disney Pictures|Great Oaks Entertainment   \n",
       "102 Dalmatians                       Walt Disney Pictures|Cruella Productions   \n",
       "\n",
       "                           release_date  vote_count  vote_average  \\\n",
       "original_title                                                      \n",
       "(500) Days of Summer          7/17/2009        1778           7.3   \n",
       "10 Things I Hate About You    3/30/1999         947           7.2   \n",
       "10,000 BC                     2/22/2008         586           5.2   \n",
       "101 Dalmatians               11/17/1996         367           5.5   \n",
       "102 Dalmatians                10/7/2000         150           5.0   \n",
       "\n",
       "                            release_year  \n",
       "original_title                            \n",
       "(500) Days of Summer                2009  \n",
       "10 Things I Hate About You          1999  \n",
       "10,000 BC                           2008  \n",
       "101 Dalmatians                      1996  \n",
       "102 Dalmatians                      2000  "
      ]
     },
     "execution_count": 83,
     "metadata": {},
     "output_type": "execute_result"
    }
   ],
   "source": [
    "name_group.head()"
   ]
  },
  {
   "cell_type": "markdown",
   "id": "d95aea98",
   "metadata": {},
   "source": [
    "The dataframe above shows grouping the data by Movie Title."
   ]
  },
  {
   "cell_type": "code",
   "execution_count": 84,
   "id": "1cd82c73",
   "metadata": {},
   "outputs": [],
   "source": [
    "popular_sorted_df = name_group.sort_values(by ='popularity', ascending= False)"
   ]
  },
  {
   "cell_type": "markdown",
   "id": "7f678432",
   "metadata": {},
   "source": [
    "The above code shows sorting the dataframe from most popular to least popular while group by movie title.  "
   ]
  },
  {
   "cell_type": "code",
   "execution_count": 85,
   "id": "31dd2d83",
   "metadata": {},
   "outputs": [],
   "source": [
    "popular_sorted_df['timestamp'] = [pd.Timestamp(x) for x in popular_sorted_df['release_date']]"
   ]
  },
  {
   "cell_type": "markdown",
   "id": "edd3d512",
   "metadata": {},
   "source": [
    "In the code above, it shows adding the timestamp column with the proper format of the date the movie releases. This part was another big issue for me. It took many attempts to get this line to properly work. There were a few underlyig issues that I had to fix before I figured out what the issue was, but once again, after I figured it out, the rest went smoothly."
   ]
  },
  {
   "cell_type": "code",
   "execution_count": 86,
   "id": "c4c9bf91",
   "metadata": {},
   "outputs": [
    {
     "data": {
      "text/html": [
       "<div>\n",
       "<style scoped>\n",
       "    .dataframe tbody tr th:only-of-type {\n",
       "        vertical-align: middle;\n",
       "    }\n",
       "\n",
       "    .dataframe tbody tr th {\n",
       "        vertical-align: top;\n",
       "    }\n",
       "\n",
       "    .dataframe thead th {\n",
       "        text-align: right;\n",
       "    }\n",
       "</style>\n",
       "<table border=\"1\" class=\"dataframe\">\n",
       "  <thead>\n",
       "    <tr style=\"text-align: right;\">\n",
       "      <th></th>\n",
       "      <th>id</th>\n",
       "      <th>popularity</th>\n",
       "      <th>budget</th>\n",
       "      <th>revenue</th>\n",
       "      <th>cast</th>\n",
       "      <th>director</th>\n",
       "      <th>runtime</th>\n",
       "      <th>genres</th>\n",
       "      <th>production_companies</th>\n",
       "      <th>release_date</th>\n",
       "      <th>vote_count</th>\n",
       "      <th>vote_average</th>\n",
       "      <th>release_year</th>\n",
       "      <th>timestamp</th>\n",
       "    </tr>\n",
       "    <tr>\n",
       "      <th>original_title</th>\n",
       "      <th></th>\n",
       "      <th></th>\n",
       "      <th></th>\n",
       "      <th></th>\n",
       "      <th></th>\n",
       "      <th></th>\n",
       "      <th></th>\n",
       "      <th></th>\n",
       "      <th></th>\n",
       "      <th></th>\n",
       "      <th></th>\n",
       "      <th></th>\n",
       "      <th></th>\n",
       "      <th></th>\n",
       "    </tr>\n",
       "  </thead>\n",
       "  <tbody>\n",
       "    <tr>\n",
       "      <th>Jurassic World</th>\n",
       "      <td>135397</td>\n",
       "      <td>32.985763</td>\n",
       "      <td>150000000</td>\n",
       "      <td>1513528810</td>\n",
       "      <td>Chris Pratt|Bryce Dallas Howard|Irrfan Khan|Vi...</td>\n",
       "      <td>Colin Trevorrow</td>\n",
       "      <td>124</td>\n",
       "      <td>Action|Adventure|Science Fiction|Thriller</td>\n",
       "      <td>Universal Studios|Amblin Entertainment|Legenda...</td>\n",
       "      <td>6/9/2015</td>\n",
       "      <td>5562</td>\n",
       "      <td>6.5</td>\n",
       "      <td>2015</td>\n",
       "      <td>2015-06-09</td>\n",
       "    </tr>\n",
       "    <tr>\n",
       "      <th>Mad Max: Fury Road</th>\n",
       "      <td>76341</td>\n",
       "      <td>28.419936</td>\n",
       "      <td>150000000</td>\n",
       "      <td>378436354</td>\n",
       "      <td>Tom Hardy|Charlize Theron|Hugh Keays-Byrne|Nic...</td>\n",
       "      <td>George Miller</td>\n",
       "      <td>120</td>\n",
       "      <td>Action|Adventure|Science Fiction|Thriller</td>\n",
       "      <td>Village Roadshow Pictures|Kennedy Miller Produ...</td>\n",
       "      <td>5/13/2015</td>\n",
       "      <td>6185</td>\n",
       "      <td>7.1</td>\n",
       "      <td>2015</td>\n",
       "      <td>2015-05-13</td>\n",
       "    </tr>\n",
       "    <tr>\n",
       "      <th>Interstellar</th>\n",
       "      <td>157336</td>\n",
       "      <td>24.949134</td>\n",
       "      <td>165000000</td>\n",
       "      <td>621752480</td>\n",
       "      <td>Matthew McConaughey|Jessica Chastain|Anne Hath...</td>\n",
       "      <td>Christopher Nolan</td>\n",
       "      <td>169</td>\n",
       "      <td>Adventure|Drama|Science Fiction</td>\n",
       "      <td>Paramount Pictures|Legendary Pictures|Warner B...</td>\n",
       "      <td>11/5/2014</td>\n",
       "      <td>6498</td>\n",
       "      <td>8.0</td>\n",
       "      <td>2014</td>\n",
       "      <td>2014-11-05</td>\n",
       "    </tr>\n",
       "    <tr>\n",
       "      <th>Guardians of the Galaxy</th>\n",
       "      <td>118340</td>\n",
       "      <td>14.311205</td>\n",
       "      <td>170000000</td>\n",
       "      <td>773312399</td>\n",
       "      <td>Chris Pratt|Zoe Saldana|Dave Bautista|Vin Dies...</td>\n",
       "      <td>James Gunn</td>\n",
       "      <td>121</td>\n",
       "      <td>Action|Science Fiction|Adventure</td>\n",
       "      <td>Marvel Studios|Moving Picture Company (MPC)|Bu...</td>\n",
       "      <td>7/30/2014</td>\n",
       "      <td>5612</td>\n",
       "      <td>7.9</td>\n",
       "      <td>2014</td>\n",
       "      <td>2014-07-30</td>\n",
       "    </tr>\n",
       "    <tr>\n",
       "      <th>Insurgent</th>\n",
       "      <td>262500</td>\n",
       "      <td>13.112507</td>\n",
       "      <td>110000000</td>\n",
       "      <td>295238201</td>\n",
       "      <td>Shailene Woodley|Theo James|Kate Winslet|Ansel...</td>\n",
       "      <td>Robert Schwentke</td>\n",
       "      <td>119</td>\n",
       "      <td>Adventure|Science Fiction|Thriller</td>\n",
       "      <td>Summit Entertainment|Mandeville Films|Red Wago...</td>\n",
       "      <td>3/18/2015</td>\n",
       "      <td>2480</td>\n",
       "      <td>6.3</td>\n",
       "      <td>2015</td>\n",
       "      <td>2015-03-18</td>\n",
       "    </tr>\n",
       "  </tbody>\n",
       "</table>\n",
       "</div>"
      ],
      "text/plain": [
       "                             id  popularity     budget     revenue  \\\n",
       "original_title                                                       \n",
       "Jurassic World           135397   32.985763  150000000  1513528810   \n",
       "Mad Max: Fury Road        76341   28.419936  150000000   378436354   \n",
       "Interstellar             157336   24.949134  165000000   621752480   \n",
       "Guardians of the Galaxy  118340   14.311205  170000000   773312399   \n",
       "Insurgent                262500   13.112507  110000000   295238201   \n",
       "\n",
       "                                                                      cast  \\\n",
       "original_title                                                               \n",
       "Jurassic World           Chris Pratt|Bryce Dallas Howard|Irrfan Khan|Vi...   \n",
       "Mad Max: Fury Road       Tom Hardy|Charlize Theron|Hugh Keays-Byrne|Nic...   \n",
       "Interstellar             Matthew McConaughey|Jessica Chastain|Anne Hath...   \n",
       "Guardians of the Galaxy  Chris Pratt|Zoe Saldana|Dave Bautista|Vin Dies...   \n",
       "Insurgent                Shailene Woodley|Theo James|Kate Winslet|Ansel...   \n",
       "\n",
       "                                  director  runtime  \\\n",
       "original_title                                        \n",
       "Jurassic World             Colin Trevorrow      124   \n",
       "Mad Max: Fury Road           George Miller      120   \n",
       "Interstellar             Christopher Nolan      169   \n",
       "Guardians of the Galaxy         James Gunn      121   \n",
       "Insurgent                 Robert Schwentke      119   \n",
       "\n",
       "                                                            genres  \\\n",
       "original_title                                                       \n",
       "Jurassic World           Action|Adventure|Science Fiction|Thriller   \n",
       "Mad Max: Fury Road       Action|Adventure|Science Fiction|Thriller   \n",
       "Interstellar                       Adventure|Drama|Science Fiction   \n",
       "Guardians of the Galaxy           Action|Science Fiction|Adventure   \n",
       "Insurgent                       Adventure|Science Fiction|Thriller   \n",
       "\n",
       "                                                      production_companies  \\\n",
       "original_title                                                               \n",
       "Jurassic World           Universal Studios|Amblin Entertainment|Legenda...   \n",
       "Mad Max: Fury Road       Village Roadshow Pictures|Kennedy Miller Produ...   \n",
       "Interstellar             Paramount Pictures|Legendary Pictures|Warner B...   \n",
       "Guardians of the Galaxy  Marvel Studios|Moving Picture Company (MPC)|Bu...   \n",
       "Insurgent                Summit Entertainment|Mandeville Films|Red Wago...   \n",
       "\n",
       "                        release_date  vote_count  vote_average  release_year  \\\n",
       "original_title                                                                 \n",
       "Jurassic World              6/9/2015        5562           6.5          2015   \n",
       "Mad Max: Fury Road         5/13/2015        6185           7.1          2015   \n",
       "Interstellar               11/5/2014        6498           8.0          2014   \n",
       "Guardians of the Galaxy    7/30/2014        5612           7.9          2014   \n",
       "Insurgent                  3/18/2015        2480           6.3          2015   \n",
       "\n",
       "                         timestamp  \n",
       "original_title                      \n",
       "Jurassic World          2015-06-09  \n",
       "Mad Max: Fury Road      2015-05-13  \n",
       "Interstellar            2014-11-05  \n",
       "Guardians of the Galaxy 2014-07-30  \n",
       "Insurgent               2015-03-18  "
      ]
     },
     "execution_count": 86,
     "metadata": {},
     "output_type": "execute_result"
    }
   ],
   "source": [
    "popular_sorted_df.head()"
   ]
  },
  {
   "cell_type": "code",
   "execution_count": 87,
   "id": "4cac78a1",
   "metadata": {},
   "outputs": [
    {
     "data": {
      "text/plain": [
       "(3618, 14)"
      ]
     },
     "execution_count": 87,
     "metadata": {},
     "output_type": "execute_result"
    }
   ],
   "source": [
    "popular_sorted_df.shape"
   ]
  },
  {
   "cell_type": "code",
   "execution_count": 88,
   "id": "863a83c5",
   "metadata": {},
   "outputs": [
    {
     "data": {
      "image/png": "[encoded data removed]",
      "text/plain": [
       "<Figure size 640x480 with 1 Axes>"
      ]
     },
     "metadata": {},
     "output_type": "display_data"
    }
   ],
   "source": [
    "fig1, ax1 = plt.subplots()\n",
    "ax1.scatter(x = popular_sorted_df['vote_average'], \n",
    "            y = popular_sorted_df['vote_count'],\n",
    "           color = 'magenta', \n",
    "           marker = 'x', \n",
    "           alpha = .2)\n",
    "\n",
    "ax1.set_title('Vote Count vs Vote Average')\n",
    "ax1.set_xlabel('Vote Average')\n",
    "ax1.set_ylabel('Vote Count')\n",
    "plt.xticks(np.arange(0, 12, 2))\n",
    "\n",
    "\n",
    "plt.show()\n"
   ]
  },
  {
   "cell_type": "markdown",
   "id": "ab65e557",
   "metadata": {},
   "source": [
    "The scatterplot above shows vote average vs vote count. I wanted to see how many counted votes went into the vote average for each movie. The scatterplot includes 3,618 movies. The vote counts range from 0-10,00. The vote average ranges on a scale from 0-10. The majority of movies have a vote average between 5 and 7 with the average number of votes being from 0-1500. \n",
    "\n",
    "\n",
    "In this scatter plot, the vote average is on the x axis and the vote count is on the y axis. I changed the color, shape, and alpha value to make the points stand stand out. By changing the alpha value, it allows the reader to get a gauge on how many points are on the graph. Many of the points are layered together, making it hard to see where each point is. The alpha value helps solve this issue. "
   ]
  },
  {
   "cell_type": "markdown",
   "id": "a9079133",
   "metadata": {},
   "source": [
    "#### How many movies were released each year?"
   ]
  },
  {
   "cell_type": "code",
   "execution_count": 89,
   "id": "903dfe91",
   "metadata": {},
   "outputs": [],
   "source": [
    "year = popular_sorted_df.groupby('release_year').count()['id']\n"
   ]
  },
  {
   "cell_type": "code",
   "execution_count": 90,
   "id": "51a7a4be",
   "metadata": {},
   "outputs": [
    {
     "data": {
      "text/plain": [
       "release_year\n",
       "1960    3\n",
       "1961    9\n",
       "1962    7\n",
       "1963    6\n",
       "1964    7\n",
       "Name: id, dtype: int64"
      ]
     },
     "execution_count": 90,
     "metadata": {},
     "output_type": "execute_result"
    }
   ],
   "source": [
    "year.head()"
   ]
  },
  {
   "cell_type": "markdown",
   "id": "10e2a9d9",
   "metadata": {},
   "source": [
    "In the line above, it shows grouping the dataset together by the release year and counting how many movies were released each year. "
   ]
  },
  {
   "cell_type": "code",
   "execution_count": 91,
   "id": "298a6fb5",
   "metadata": {},
   "outputs": [
    {
     "data": {
      "image/png": "[encoded data removed]",
      "text/plain": [
       "<Figure size 640x480 with 1 Axes>"
      ]
     },
     "metadata": {},
     "output_type": "display_data"
    }
   ],
   "source": [
    "fig2, ax2 = plt.subplots()\n",
    "plt.hist(year.index, bins=np.arange(1960, 2016, 5), \n",
    "         weights = year, edgecolor ='cyan', color = 'magenta')\n",
    "\n",
    "plt.xlabel('Release Year')\n",
    "plt.ylabel('Amount of Movies')\n",
    "plt.title('Amount of Movies Released Per Year')\n",
    "\n",
    "\n",
    "plt.xticks(np.arange(1960, 2016, 5))\n",
    "plt.yticks(np.arange(0, 1100, 100))\n",
    "\n",
    "\n",
    "plt.show()"
   ]
  },
  {
   "cell_type": "markdown",
   "id": "bfdcc4a7",
   "metadata": {},
   "source": [
    "The dataframe above shows the histogram of amount of movies released per year. The years range from 1960-2015 and the amount of movies ranges from 0-1000. I changed the intervals of the release years to 5 and the amount of movies to 100 to make the graph easier to read. "
   ]
  },
  {
   "cell_type": "markdown",
   "id": "79dfc7fe",
   "metadata": {},
   "source": [
    "#### Is there a correlation between the duration of a movie and its rating? "
   ]
  },
  {
   "cell_type": "code",
   "execution_count": 92,
   "id": "6482f953",
   "metadata": {},
   "outputs": [
    {
     "data": {
      "image/png": "[encoded data removed]",
      "text/plain": [
       "<Figure size 640x480 with 1 Axes>"
      ]
     },
     "metadata": {},
     "output_type": "display_data"
    }
   ],
   "source": [
    "fig3, ax3 = plt.subplots()\n",
    "ax3.scatter(x = popular_sorted_df['runtime'], \n",
    "            y = popular_sorted_df['revenue'],\n",
    "           color = 'pink', \n",
    "           alpha = .2)\n",
    "\n",
    "\n",
    "ax3.set_xlabel('Movie Duration in minutes')\n",
    "ax3.set_ylabel('Movie Revenue')\n",
    "\n",
    "\n",
    "\n",
    "ax3.set_title('Movie Duration vs Revenue')\n",
    "plt.show()"
   ]
  },
  {
   "cell_type": "markdown",
   "id": "f2e71cc9",
   "metadata": {},
   "source": [
    "The scatterplot above shows Movie Duration vs Revenue. Most movies have a run time of 75-150 minutes. The average revenue is from 0-5billion. My question was asking if there is a correlation between runtime of a movie and the revenue the movie brings in. Below shows the test to prove if there is a corrleation or not. "
   ]
  },
  {
   "cell_type": "code",
   "execution_count": 93,
   "id": "cb5ea2a9",
   "metadata": {},
   "outputs": [],
   "source": [
    "result = stats.pearsonr(popular_sorted_df['revenue'], popular_sorted_df['runtime'])"
   ]
  },
  {
   "cell_type": "code",
   "execution_count": 94,
   "id": "ced8b983",
   "metadata": {},
   "outputs": [
    {
     "data": {
      "text/plain": [
       "PearsonRResult(statistic=0.2407977399442327, pvalue=6.870010510417473e-49)"
      ]
     },
     "execution_count": 94,
     "metadata": {},
     "output_type": "execute_result"
    }
   ],
   "source": [
    "result"
   ]
  },
  {
   "cell_type": "code",
   "execution_count": 95,
   "id": "9b33276d",
   "metadata": {},
   "outputs": [
    {
     "data": {
      "text/plain": [
       "0.0"
      ]
     },
     "execution_count": 95,
     "metadata": {},
     "output_type": "execute_result"
    }
   ],
   "source": [
    "round(result.pvalue,3)"
   ]
  },
  {
   "cell_type": "markdown",
   "id": "d8b6da48",
   "metadata": {},
   "source": [
    "I completed a test to see if the corrleation between revenue and runtime was postive. The pvalue result of \"0.0\" shows that there is a strong corrleation between revenue and runtime of a movie. "
   ]
  },
  {
   "cell_type": "markdown",
   "id": "fc5b4bbc",
   "metadata": {},
   "source": [
    "#### Do higher-budget films generally receive better ratings?"
   ]
  },
  {
   "cell_type": "code",
   "execution_count": 96,
   "id": "b8176d62",
   "metadata": {},
   "outputs": [],
   "source": [
    "median_budget = popular_sorted_df['budget'].median()"
   ]
  },
  {
   "cell_type": "code",
   "execution_count": 97,
   "id": "e2ce590b",
   "metadata": {},
   "outputs": [
    {
     "data": {
      "text/plain": [
       "23800000.0"
      ]
     },
     "execution_count": 97,
     "metadata": {},
     "output_type": "execute_result"
    }
   ],
   "source": [
    "median_budget"
   ]
  },
  {
   "cell_type": "markdown",
   "id": "c7f266ee",
   "metadata": {},
   "source": [
    "To test my question \"Do higher-budget films generally receive better ratings?\", I found the mean of the budget for the whole dataset."
   ]
  },
  {
   "cell_type": "code",
   "execution_count": 98,
   "id": "c9380669",
   "metadata": {},
   "outputs": [],
   "source": [
    "lower_budget_df = popular_sorted_df[popular_sorted_df['budget'] <= median_budget]\n",
    "upper_budget_df = popular_sorted_df[popular_sorted_df['budget'] > median_budget]"
   ]
  },
  {
   "cell_type": "markdown",
   "id": "1a4ed6bd",
   "metadata": {},
   "source": [
    "Above, I created variables for the upper budget and lower budget. The upper budget movies have a budget median above 23800000. The lower budget movies have a budget median of 23800000 or below. "
   ]
  },
  {
   "cell_type": "code",
   "execution_count": 99,
   "id": "b0e5c5da",
   "metadata": {},
   "outputs": [
    {
     "data": {
      "text/plain": [
       "(1809, 14)"
      ]
     },
     "execution_count": 99,
     "metadata": {},
     "output_type": "execute_result"
    }
   ],
   "source": [
    "lower_budget_df.shape"
   ]
  },
  {
   "cell_type": "code",
   "execution_count": 100,
   "id": "d385bdfe",
   "metadata": {},
   "outputs": [
    {
     "data": {
      "text/plain": [
       "(1809, 14)"
      ]
     },
     "execution_count": 100,
     "metadata": {},
     "output_type": "execute_result"
    }
   ],
   "source": [
    "upper_budget_df.shape"
   ]
  },
  {
   "cell_type": "markdown",
   "id": "8a0c90d6",
   "metadata": {},
   "source": [
    "Each dataframe of upper and lower movies contains 1,809 movies. "
   ]
  },
  {
   "cell_type": "code",
   "execution_count": 101,
   "id": "190648fe",
   "metadata": {},
   "outputs": [
    {
     "data": {
      "image/png": "[encoded data removed]",
      "text/plain": [
       "<Figure size 1000x500 with 2 Axes>"
      ]
     },
     "metadata": {},
     "output_type": "display_data"
    }
   ],
   "source": [
    "fig4, ax4 = plt.subplots(1, 2, figsize = (10, 5))\n",
    "ax4[0].scatter (x = lower_budget_df['vote_average'],\n",
    "            y = lower_budget_df['budget'], \n",
    "                label = 'Lower Budget Movies',\n",
    "          color = 'magenta',\n",
    "            marker = '*',\n",
    "           alpha = .5)\n",
    "ax4[1].scatter(x = upper_budget_df['vote_average'],\n",
    "            y = upper_budget_df['budget'],\n",
    "               label = 'Higher Budget Movies',\n",
    "           color = 'aqua',\n",
    "                marker = '*',\n",
    "           alpha = .5)\n",
    "ax4[0].set_xlabel('Vote Average')\n",
    "ax4[0].set_ylabel('Budget')\n",
    "ax4[1].set_xlabel('Vote Average')\n",
    "ax4[1].set_ylabel('Budget')\n",
    "ax4[0].set_title('Lower Budget Movies')\n",
    "ax4[1].set_title('Higher Budget Movies')\n",
    "\n",
    "plt.show()"
   ]
  },
  {
   "cell_type": "markdown",
   "id": "7de21e28",
   "metadata": {},
   "source": [
    "Above shows scatter plots for the higher budget movies and lower budget movies. Each plot looks different. The lower budget movies show points all over the plot while the upper budget shows plots favoring one region. For the upper budget movies, the vote averages anywhere from 5-7. It is hard to tell with just the human eye of what the average is for the lower budget. It seems to be favoring the same range. "
   ]
  },
  {
   "cell_type": "code",
   "execution_count": 102,
   "id": "a6da147b",
   "metadata": {},
   "outputs": [],
   "source": [
    "lower_result = stats.pearsonr(lower_budget_df['vote_average'], lower_budget_df['budget'])"
   ]
  },
  {
   "cell_type": "code",
   "execution_count": 103,
   "id": "0a0d5e4e",
   "metadata": {},
   "outputs": [
    {
     "data": {
      "text/plain": [
       "PearsonRResult(statistic=-0.055508818224131305, pvalue=0.01822039520588371)"
      ]
     },
     "execution_count": 103,
     "metadata": {},
     "output_type": "execute_result"
    }
   ],
   "source": [
    "lower_result"
   ]
  },
  {
   "cell_type": "markdown",
   "id": "ef00a24d",
   "metadata": {},
   "source": [
    "the p value for the lower budget movies is .018, which shows a strong corrleation. "
   ]
  },
  {
   "cell_type": "code",
   "execution_count": 104,
   "id": "96cc73f4",
   "metadata": {},
   "outputs": [],
   "source": [
    "upper_result = stats.pearsonr(upper_budget_df['vote_average'], upper_budget_df['budget'])"
   ]
  },
  {
   "cell_type": "code",
   "execution_count": 105,
   "id": "94f31373",
   "metadata": {},
   "outputs": [
    {
     "data": {
      "text/plain": [
       "PearsonRResult(statistic=0.11357860119897722, pvalue=1.278265217311702e-06)"
      ]
     },
     "execution_count": 105,
     "metadata": {},
     "output_type": "execute_result"
    }
   ],
   "source": [
    "upper_result"
   ]
  },
  {
   "cell_type": "markdown",
   "id": "4a72ee4f",
   "metadata": {},
   "source": [
    "The p value for the upper budget movies is .000, which is also a strong correlation. "
   ]
  },
  {
   "cell_type": "markdown",
   "id": "2fbe90e8",
   "metadata": {},
   "source": [
    "Although both scatterplots show strong correlation between budget and vote average, we can conclude the higher budget plot is stronger. This is because the pvalue is smaller. "
   ]
  },
  {
   "cell_type": "markdown",
   "id": "6fb5e5d3",
   "metadata": {},
   "source": [
    "From this analysis, many conclusions can be drawn from the provided data. First, in this dataset, the amount of movies produced increased per year. As the years went on, the number of movies grew. \n",
    "\n",
    "\n",
    "We can also conclude that upper budget movies recieve better ratings than lower budget movies. From the comparison of lower and upper budget movies, we can see that the plots looked very different. Although the plots looked very different, the pvalue of each plot showed strong correlation. The pvalue for the upper budget movies was smaller, therefore we can conclude upper budget movies recieve better rating than lower budget movies. \n",
    "\n",
    "Also, we can conclude that the duration of a movie has an affect on the revenue the movie brings in. In the plot above, it shows all movies plotted with duration on the x axis and revenue on the y axis. Although we cannot tell if there is a correlation just by looking at the plot, we can conclude from the p value there is a strong correlation between movie duration and revenue. \n"
   ]
  },
  {
   "cell_type": "markdown",
   "id": "1cb8d9b7",
   "metadata": {},
   "source": [
    "Throughout the project and updates, I ran into a few issues that caused minor setbacks. There were a few things such as the timestamp and duplicates that took quite a bit of time to figure out. As I worked through my code and figured out the issues, mostly everything went smoothly. There are more things I wish I would of done such as more variety in my graphs and a deeper analysis into each question. "
   ]
  },
  {
   "cell_type": "markdown",
   "id": "7bf61540",
   "metadata": {},
   "source": [
    "From this project, the audience should be able to understand trends and patterns that are happening within the industry. This data can be used to predict trends, movie preformance, genre preference, cast/director preference etc. This data will also be able to explain what makes a movie successful in terms of ratings and popularity. This data will show different characteristics that contribute to the overall succes of a movie. This project will also show how much money a movie brings in verse the budget of the movie. Also, many questions can be answered from this project that can bring insight to the audience about the film-making industry and how decisions can be made off of data. "
   ]
  },
  {
   "cell_type": "code",
   "execution_count": null,
   "id": "4caaa9c3",
   "metadata": {},
   "outputs": [],
   "source": []
  }
 ],
 "metadata": {
  "kernelspec": {
   "display_name": "Python 3 (ipykernel)",
   "language": "python",
   "name": "python3"
  },
  "language_info": {
   "codemirror_mode": {
    "name": "ipython",
    "version": 3
   },
   "file_extension": ".py",
   "mimetype": "text/x-python",
   "name": "python",
   "nbconvert_exporter": "python",
   "pygments_lexer": "ipython3",
   "version": "3.11.4"
  }
 },
 "nbformat": 4,
 "nbformat_minor": 5
}
