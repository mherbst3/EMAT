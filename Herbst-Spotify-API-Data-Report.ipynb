{
 "cells": [
  {
   "cell_type": "markdown",
   "id": "008d1d97",
   "metadata": {},
   "source": [
    "### Spotify API Report ###\n",
    "#### Melaina Herbst ####\n",
    "##### 10.15.2023 #####\n",
    "\n",
    "\n",
    "***Hypothesis:*** The danceability level influences popularity ranking in Chris Stapleton's top tracks.\n",
    "\n",
    "One theoretical application of my hypothesis is the enhancement of music. If there is a relationship between danceability and popularity found in Chris Stapleton's top tracks, music artists can use this as a tool to advance their music to captivate their audience.  The knowledge of musical trends can be beneficial for the advancement of artists in the music industry. If the hypothesis is found to be true, it can allow music creators to learn the importance of the influence danceability has on popularity of songs. In addition to satisfying their audience, this can also increase their chances of success. By analyzing data about the influence of danceability on popularity ranking, it can allow for deeper exploration of trends within music and the industry. Analyzing the correlation between danceability and popularity is one of the statistical applications of my hypothesis. Both of these variables hold a high ranking in the importance of music. Trends between these variables can be analyzed to identify if there is a correlation. Tools can be used to evaluate data and estimate the popularity of a song based on the danceability level. \n",
    "\n",
    "The endpoints I will be using in this report are Artists top tracks and audio features. Each of these endpoints are suitable for testing my hypothesis because they provide specific data that is crucial in this report. Chris Stapleton’s top tracks provided data on his most sought-after and relevant songs. This endpoint provided the popularity object which was a key data component in this report. The use of the Audio Features endpoints was crucial in this analysis as well. This feature provided specific elements that are included in the top tracks. These features are based on a numerical scale, which allows for the proper examination of the danceability in a song. Danceability was the most important object from audio features, due to its critical role in this analysis. \n",
    "\n",
    "This data can be reliable because it comes straight from Spotify’s records. Since this data comes straight from Spotify, it provides real user data. This data is also updated frequently which increases the reliability.  This data can be unreliable because of potential inaccuracies within data or the algorithm. \n",
    "\n",
    "The source for this data is Spotify. The structure of this data is artist data, which includes information about Chris Stapleton, and audio features, which includes audio elements of a song track. \n"
   ]
  },
  {
   "cell_type": "code",
   "execution_count": 65,
   "id": "42ed659a",
   "metadata": {},
   "outputs": [],
   "source": [
    "import requests \n",
    "import pandas as pd\n",
    "import base64\n",
    "import json\n",
    "import urllib "
   ]
  },
  {
   "cell_type": "code",
   "execution_count": 66,
   "id": "9f24d1ff",
   "metadata": {},
   "outputs": [],
   "source": [
    "Client_ID = pd.read_csv('spotify_keys_9.19.txt')['Client_ID'].iloc[0]"
   ]
  },
  {
   "cell_type": "code",
   "execution_count": 67,
   "id": "cf3a3566",
   "metadata": {},
   "outputs": [],
   "source": [
    "Client_Secret = pd.read_csv('spotify_keys_9.19.txt')['Client_Secret'].iloc[0]"
   ]
  },
  {
   "cell_type": "code",
   "execution_count": 68,
   "id": "b346f60d",
   "metadata": {},
   "outputs": [],
   "source": [
    "#Client_ID"
   ]
  },
  {
   "cell_type": "code",
   "execution_count": 69,
   "id": "413db273",
   "metadata": {},
   "outputs": [],
   "source": [
    "#Client_Secret"
   ]
  },
  {
   "cell_type": "code",
   "execution_count": 70,
   "id": "a3212a69",
   "metadata": {},
   "outputs": [],
   "source": [
    "client_cred = base64.b64encode(str(Client_ID + \":\" + Client_Secret).encode(\"ascii\"))"
   ]
  },
  {
   "cell_type": "code",
   "execution_count": 71,
   "id": "5490c722",
   "metadata": {},
   "outputs": [],
   "source": [
    "#client_cred"
   ]
  },
  {
   "cell_type": "code",
   "execution_count": 72,
   "id": "fa764b6f",
   "metadata": {},
   "outputs": [],
   "source": [
    "headers = {\"Authorization\": \"Basic {}\".format(client_cred.decode(\"ascii\"))}"
   ]
  },
  {
   "cell_type": "code",
   "execution_count": 73,
   "id": "686c9a55",
   "metadata": {},
   "outputs": [],
   "source": [
    "#headers"
   ]
  },
  {
   "cell_type": "code",
   "execution_count": 74,
   "id": "5e4135c6",
   "metadata": {},
   "outputs": [],
   "source": [
    "payload = {'grant_type' : 'client_credentials'}\n",
    "url = 'https://accounts.spotify.com/api/token'"
   ]
  },
  {
   "cell_type": "code",
   "execution_count": 75,
   "id": "5b0466db",
   "metadata": {},
   "outputs": [],
   "source": [
    "response = requests.post(url = url, data = payload, headers = headers )"
   ]
  },
  {
   "cell_type": "code",
   "execution_count": 76,
   "id": "da281e82",
   "metadata": {},
   "outputs": [
    {
     "data": {
      "text/plain": [
       "200"
      ]
     },
     "execution_count": 76,
     "metadata": {},
     "output_type": "execute_result"
    }
   ],
   "source": [
    "response.status_code"
   ]
  },
  {
   "cell_type": "code",
   "execution_count": 77,
   "id": "99bc13b8",
   "metadata": {},
   "outputs": [],
   "source": [
    "#response.json()['access_token']"
   ]
  },
  {
   "cell_type": "code",
   "execution_count": 78,
   "id": "92d7ed5c",
   "metadata": {},
   "outputs": [],
   "source": [
    "header_key = response.json()"
   ]
  },
  {
   "cell_type": "code",
   "execution_count": 79,
   "id": "846b3f81",
   "metadata": {},
   "outputs": [],
   "source": [
    "#header_key['access_token']"
   ]
  },
  {
   "cell_type": "code",
   "execution_count": 80,
   "id": "16860411",
   "metadata": {},
   "outputs": [],
   "source": [
    "key = header_key['access_token']"
   ]
  },
  {
   "cell_type": "code",
   "execution_count": 81,
   "id": "b7a5f9e1",
   "metadata": {},
   "outputs": [],
   "source": [
    "session_headers = {\"Authorization\": \"Bearer {}\".format(key)}"
   ]
  },
  {
   "cell_type": "code",
   "execution_count": 82,
   "id": "a41b6013",
   "metadata": {},
   "outputs": [],
   "source": [
    "#session_headers"
   ]
  },
  {
   "cell_type": "code",
   "execution_count": 83,
   "id": "1931d78f",
   "metadata": {},
   "outputs": [],
   "source": [
    "chris_stap_id = '4YLtscXsxbVgi031ovDDdh'"
   ]
  },
  {
   "cell_type": "markdown",
   "id": "b3f058b0",
   "metadata": {},
   "source": [
    "The Spotify URL Endpoint for Chris Stapleton's top tracks. The url includes the artist ID."
   ]
  },
  {
   "cell_type": "code",
   "execution_count": 84,
   "id": "73090c74",
   "metadata": {},
   "outputs": [],
   "source": [
    "top_tracks_url  = 'https://api.spotify.com/v1/artists/{}/top-tracks?market=US'.format(chris_stap_id)"
   ]
  },
  {
   "cell_type": "code",
   "execution_count": 85,
   "id": "b7d90a19",
   "metadata": {},
   "outputs": [
    {
     "data": {
      "text/plain": [
       "'https://api.spotify.com/v1/artists/4YLtscXsxbVgi031ovDDdh/top-tracks?market=US'"
      ]
     },
     "execution_count": 85,
     "metadata": {},
     "output_type": "execute_result"
    }
   ],
   "source": [
    "top_tracks_url "
   ]
  },
  {
   "cell_type": "code",
   "execution_count": 86,
   "id": "2f1cd930",
   "metadata": {},
   "outputs": [],
   "source": [
    "top_tracks_response = requests.get(url = top_tracks_url, headers = session_headers)"
   ]
  },
  {
   "cell_type": "code",
   "execution_count": 87,
   "id": "1cab5137",
   "metadata": {},
   "outputs": [
    {
     "data": {
      "text/plain": [
       "200"
      ]
     },
     "execution_count": 87,
     "metadata": {},
     "output_type": "execute_result"
    }
   ],
   "source": [
    "top_tracks_response.status_code"
   ]
  },
  {
   "cell_type": "markdown",
   "id": "193d8286",
   "metadata": {},
   "source": [
    "Request for data of the top tracks. "
   ]
  },
  {
   "cell_type": "code",
   "execution_count": 88,
   "id": "9daed857",
   "metadata": {},
   "outputs": [],
   "source": [
    "top_tracks_data = top_tracks_response.json()"
   ]
  },
  {
   "cell_type": "code",
   "execution_count": 89,
   "id": "54052ba9",
   "metadata": {},
   "outputs": [
    {
     "data": {
      "text/plain": [
       "dict_keys(['tracks'])"
      ]
     },
     "execution_count": 89,
     "metadata": {},
     "output_type": "execute_result"
    }
   ],
   "source": [
    "top_tracks_data.keys()"
   ]
  },
  {
   "cell_type": "code",
   "execution_count": 90,
   "id": "a2911873",
   "metadata": {},
   "outputs": [],
   "source": [
    "tracks = top_tracks_data['tracks']"
   ]
  },
  {
   "cell_type": "markdown",
   "id": "168a69c9",
   "metadata": {},
   "source": [
    "Below is the DataFrame for Chris Stapletons top tracks."
   ]
  },
  {
   "cell_type": "code",
   "execution_count": 91,
   "id": "e8d1da5b",
   "metadata": {},
   "outputs": [],
   "source": [
    "top_tracks_df = pd.DataFrame(top_tracks_data['tracks'])"
   ]
  },
  {
   "cell_type": "code",
   "execution_count": 92,
   "id": "447f1d84",
   "metadata": {},
   "outputs": [
    {
     "data": {
      "text/html": [
       "<div>\n",
       "<style scoped>\n",
       "    .dataframe tbody tr th:only-of-type {\n",
       "        vertical-align: middle;\n",
       "    }\n",
       "\n",
       "    .dataframe tbody tr th {\n",
       "        vertical-align: top;\n",
       "    }\n",
       "\n",
       "    .dataframe thead th {\n",
       "        text-align: right;\n",
       "    }\n",
       "</style>\n",
       "<table border=\"1\" class=\"dataframe\">\n",
       "  <thead>\n",
       "    <tr style=\"text-align: right;\">\n",
       "      <th></th>\n",
       "      <th>album</th>\n",
       "      <th>artists</th>\n",
       "      <th>disc_number</th>\n",
       "      <th>duration_ms</th>\n",
       "      <th>explicit</th>\n",
       "      <th>external_ids</th>\n",
       "      <th>external_urls</th>\n",
       "      <th>href</th>\n",
       "      <th>id</th>\n",
       "      <th>is_local</th>\n",
       "      <th>is_playable</th>\n",
       "      <th>name</th>\n",
       "      <th>popularity</th>\n",
       "      <th>preview_url</th>\n",
       "      <th>track_number</th>\n",
       "      <th>type</th>\n",
       "      <th>uri</th>\n",
       "    </tr>\n",
       "  </thead>\n",
       "  <tbody>\n",
       "    <tr>\n",
       "      <th>0</th>\n",
       "      <td>{'album_type': 'album', 'artists': [{'external...</td>\n",
       "      <td>[{'external_urls': {'spotify': 'https://open.s...</td>\n",
       "      <td>1</td>\n",
       "      <td>293293</td>\n",
       "      <td>False</td>\n",
       "      <td>{'isrc': 'USUM71418088'}</td>\n",
       "      <td>{'spotify': 'https://open.spotify.com/track/3f...</td>\n",
       "      <td>https://api.spotify.com/v1/tracks/3fqwjXwUGN6v...</td>\n",
       "      <td>3fqwjXwUGN6vbzIwvyFMhx</td>\n",
       "      <td>False</td>\n",
       "      <td>True</td>\n",
       "      <td>Tennessee Whiskey</td>\n",
       "      <td>84</td>\n",
       "      <td>None</td>\n",
       "      <td>3</td>\n",
       "      <td>track</td>\n",
       "      <td>spotify:track:3fqwjXwUGN6vbzIwvyFMhx</td>\n",
       "    </tr>\n",
       "    <tr>\n",
       "      <th>1</th>\n",
       "      <td>{'album_type': 'album', 'artists': [{'external...</td>\n",
       "      <td>[{'external_urls': {'spotify': 'https://open.s...</td>\n",
       "      <td>1</td>\n",
       "      <td>213493</td>\n",
       "      <td>False</td>\n",
       "      <td>{'isrc': 'USUM72013814'}</td>\n",
       "      <td>{'spotify': 'https://open.spotify.com/track/2U...</td>\n",
       "      <td>https://api.spotify.com/v1/tracks/2UikqkwBv7aI...</td>\n",
       "      <td>2UikqkwBv7aIvlixeVXHWt</td>\n",
       "      <td>False</td>\n",
       "      <td>True</td>\n",
       "      <td>You Should Probably Leave</td>\n",
       "      <td>83</td>\n",
       "      <td>None</td>\n",
       "      <td>13</td>\n",
       "      <td>track</td>\n",
       "      <td>spotify:track:2UikqkwBv7aIvlixeVXHWt</td>\n",
       "    </tr>\n",
       "    <tr>\n",
       "      <th>2</th>\n",
       "      <td>{'album_type': 'single', 'artists': [{'externa...</td>\n",
       "      <td>[{'external_urls': {'spotify': 'https://open.s...</td>\n",
       "      <td>1</td>\n",
       "      <td>267893</td>\n",
       "      <td>False</td>\n",
       "      <td>{'isrc': 'USUG12300484'}</td>\n",
       "      <td>{'spotify': 'https://open.spotify.com/track/7M...</td>\n",
       "      <td>https://api.spotify.com/v1/tracks/7MSWxMumjz6l...</td>\n",
       "      <td>7MSWxMumjz6lHj7oRApNbg</td>\n",
       "      <td>False</td>\n",
       "      <td>True</td>\n",
       "      <td>White Horse</td>\n",
       "      <td>81</td>\n",
       "      <td>None</td>\n",
       "      <td>1</td>\n",
       "      <td>track</td>\n",
       "      <td>spotify:track:7MSWxMumjz6lHj7oRApNbg</td>\n",
       "    </tr>\n",
       "    <tr>\n",
       "      <th>3</th>\n",
       "      <td>{'album_type': 'album', 'artists': [{'external...</td>\n",
       "      <td>[{'external_urls': {'spotify': 'https://open.s...</td>\n",
       "      <td>1</td>\n",
       "      <td>240413</td>\n",
       "      <td>False</td>\n",
       "      <td>{'isrc': 'USUM72013812'}</td>\n",
       "      <td>{'spotify': 'https://open.spotify.com/track/3K...</td>\n",
       "      <td>https://api.spotify.com/v1/tracks/3K07bGe8iljQ...</td>\n",
       "      <td>3K07bGe8iljQ3mOKArHLDo</td>\n",
       "      <td>False</td>\n",
       "      <td>True</td>\n",
       "      <td>Starting Over</td>\n",
       "      <td>78</td>\n",
       "      <td>None</td>\n",
       "      <td>1</td>\n",
       "      <td>track</td>\n",
       "      <td>spotify:track:3K07bGe8iljQ3mOKArHLDo</td>\n",
       "    </tr>\n",
       "    <tr>\n",
       "      <th>4</th>\n",
       "      <td>{'album_type': 'album', 'artists': [{'external...</td>\n",
       "      <td>[{'external_urls': {'spotify': 'https://open.s...</td>\n",
       "      <td>1</td>\n",
       "      <td>180906</td>\n",
       "      <td>False</td>\n",
       "      <td>{'isrc': 'USUM71701961'}</td>\n",
       "      <td>{'spotify': 'https://open.spotify.com/track/06...</td>\n",
       "      <td>https://api.spotify.com/v1/tracks/06gD2ZtK3Dzc...</td>\n",
       "      <td>06gD2ZtK3Dzc1BYqWExQJJ</td>\n",
       "      <td>False</td>\n",
       "      <td>True</td>\n",
       "      <td>Broken Halos</td>\n",
       "      <td>80</td>\n",
       "      <td>None</td>\n",
       "      <td>1</td>\n",
       "      <td>track</td>\n",
       "      <td>spotify:track:06gD2ZtK3Dzc1BYqWExQJJ</td>\n",
       "    </tr>\n",
       "  </tbody>\n",
       "</table>\n",
       "</div>"
      ],
      "text/plain": [
       "                                               album  \\\n",
       "0  {'album_type': 'album', 'artists': [{'external...   \n",
       "1  {'album_type': 'album', 'artists': [{'external...   \n",
       "2  {'album_type': 'single', 'artists': [{'externa...   \n",
       "3  {'album_type': 'album', 'artists': [{'external...   \n",
       "4  {'album_type': 'album', 'artists': [{'external...   \n",
       "\n",
       "                                             artists  disc_number  \\\n",
       "0  [{'external_urls': {'spotify': 'https://open.s...            1   \n",
       "1  [{'external_urls': {'spotify': 'https://open.s...            1   \n",
       "2  [{'external_urls': {'spotify': 'https://open.s...            1   \n",
       "3  [{'external_urls': {'spotify': 'https://open.s...            1   \n",
       "4  [{'external_urls': {'spotify': 'https://open.s...            1   \n",
       "\n",
       "   duration_ms  explicit              external_ids  \\\n",
       "0       293293     False  {'isrc': 'USUM71418088'}   \n",
       "1       213493     False  {'isrc': 'USUM72013814'}   \n",
       "2       267893     False  {'isrc': 'USUG12300484'}   \n",
       "3       240413     False  {'isrc': 'USUM72013812'}   \n",
       "4       180906     False  {'isrc': 'USUM71701961'}   \n",
       "\n",
       "                                       external_urls  \\\n",
       "0  {'spotify': 'https://open.spotify.com/track/3f...   \n",
       "1  {'spotify': 'https://open.spotify.com/track/2U...   \n",
       "2  {'spotify': 'https://open.spotify.com/track/7M...   \n",
       "3  {'spotify': 'https://open.spotify.com/track/3K...   \n",
       "4  {'spotify': 'https://open.spotify.com/track/06...   \n",
       "\n",
       "                                                href                      id  \\\n",
       "0  https://api.spotify.com/v1/tracks/3fqwjXwUGN6v...  3fqwjXwUGN6vbzIwvyFMhx   \n",
       "1  https://api.spotify.com/v1/tracks/2UikqkwBv7aI...  2UikqkwBv7aIvlixeVXHWt   \n",
       "2  https://api.spotify.com/v1/tracks/7MSWxMumjz6l...  7MSWxMumjz6lHj7oRApNbg   \n",
       "3  https://api.spotify.com/v1/tracks/3K07bGe8iljQ...  3K07bGe8iljQ3mOKArHLDo   \n",
       "4  https://api.spotify.com/v1/tracks/06gD2ZtK3Dzc...  06gD2ZtK3Dzc1BYqWExQJJ   \n",
       "\n",
       "   is_local  is_playable                       name  popularity preview_url  \\\n",
       "0     False         True          Tennessee Whiskey          84        None   \n",
       "1     False         True  You Should Probably Leave          83        None   \n",
       "2     False         True                White Horse          81        None   \n",
       "3     False         True              Starting Over          78        None   \n",
       "4     False         True               Broken Halos          80        None   \n",
       "\n",
       "   track_number   type                                   uri  \n",
       "0             3  track  spotify:track:3fqwjXwUGN6vbzIwvyFMhx  \n",
       "1            13  track  spotify:track:2UikqkwBv7aIvlixeVXHWt  \n",
       "2             1  track  spotify:track:7MSWxMumjz6lHj7oRApNbg  \n",
       "3             1  track  spotify:track:3K07bGe8iljQ3mOKArHLDo  \n",
       "4             1  track  spotify:track:06gD2ZtK3Dzc1BYqWExQJJ  "
      ]
     },
     "execution_count": 92,
     "metadata": {},
     "output_type": "execute_result"
    }
   ],
   "source": [
    "top_tracks_df.head()"
   ]
  },
  {
   "cell_type": "code",
   "execution_count": 93,
   "id": "fb240731",
   "metadata": {},
   "outputs": [
    {
     "data": {
      "text/plain": [
       "'3fqwjXwUGN6vbzIwvyFMhx'"
      ]
     },
     "execution_count": 93,
     "metadata": {},
     "output_type": "execute_result"
    }
   ],
   "source": [
    "top_tracks_data['tracks'][0]['id']"
   ]
  },
  {
   "cell_type": "markdown",
   "id": "c9ada212",
   "metadata": {},
   "source": [
    "Below shows how to obtain the ID for each individual track. "
   ]
  },
  {
   "cell_type": "code",
   "execution_count": 94,
   "id": "aba615be",
   "metadata": {},
   "outputs": [],
   "source": [
    "track_id = ','.join(list([x['id'] for x in top_tracks_data ['tracks']]))"
   ]
  },
  {
   "cell_type": "code",
   "execution_count": 95,
   "id": "dae12584",
   "metadata": {},
   "outputs": [],
   "source": [
    "audio_features_url = 'https://api.spotify.com/v1/audio-features?ids={}'.format(track_id)"
   ]
  },
  {
   "cell_type": "code",
   "execution_count": 96,
   "id": "621e1e1b",
   "metadata": {},
   "outputs": [
    {
     "data": {
      "text/plain": [
       "'https://api.spotify.com/v1/audio-features?ids=3fqwjXwUGN6vbzIwvyFMhx,2UikqkwBv7aIvlixeVXHWt,7MSWxMumjz6lHj7oRApNbg,3K07bGe8iljQ3mOKArHLDo,06gD2ZtK3Dzc1BYqWExQJJ,4CkgMiMqZ5JzW9iYXSTMTL,5jROdl6MhcmP3O7h2sVgtw,65M92JpTbAdHmTQm4jGaDa,68JS5SFTnW5Yv9Vzw81Jf0,178OI1A3qjROeFeh8lmNwW'"
      ]
     },
     "execution_count": 96,
     "metadata": {},
     "output_type": "execute_result"
    }
   ],
   "source": [
    "audio_features_url"
   ]
  },
  {
   "cell_type": "markdown",
   "id": "efc31269",
   "metadata": {},
   "source": [
    "Below shows the Request of data for the audio features. "
   ]
  },
  {
   "cell_type": "code",
   "execution_count": 97,
   "id": "0056eedc",
   "metadata": {},
   "outputs": [],
   "source": [
    "audio_features_response = requests.get(url = audio_features_url, headers = session_headers)"
   ]
  },
  {
   "cell_type": "code",
   "execution_count": 98,
   "id": "45704b90",
   "metadata": {},
   "outputs": [
    {
     "data": {
      "text/plain": [
       "200"
      ]
     },
     "execution_count": 98,
     "metadata": {},
     "output_type": "execute_result"
    }
   ],
   "source": [
    "audio_features_response.status_code"
   ]
  },
  {
   "cell_type": "code",
   "execution_count": 99,
   "id": "b5786db8",
   "metadata": {},
   "outputs": [],
   "source": [
    "features = audio_features_response.json()"
   ]
  },
  {
   "cell_type": "code",
   "execution_count": 100,
   "id": "3cb54b00",
   "metadata": {},
   "outputs": [
    {
     "data": {
      "text/plain": [
       "dict_keys(['audio_features'])"
      ]
     },
     "execution_count": 100,
     "metadata": {},
     "output_type": "execute_result"
    }
   ],
   "source": [
    "features.keys()"
   ]
  },
  {
   "cell_type": "code",
   "execution_count": 101,
   "id": "8b6d77ee",
   "metadata": {},
   "outputs": [
    {
     "data": {
      "text/plain": [
       "0.392"
      ]
     },
     "execution_count": 101,
     "metadata": {},
     "output_type": "execute_result"
    }
   ],
   "source": [
    "features['audio_features'][0]['danceability']"
   ]
  },
  {
   "cell_type": "markdown",
   "id": "4bcb46a9",
   "metadata": {},
   "source": [
    "The DataFrame below includes all of the data and elements for the audio features.  "
   ]
  },
  {
   "cell_type": "code",
   "execution_count": 102,
   "id": "4fa50b66",
   "metadata": {},
   "outputs": [],
   "source": [
    "audio_features_df = pd.DataFrame(features['audio_features'])"
   ]
  },
  {
   "cell_type": "code",
   "execution_count": 103,
   "id": "36a2396a",
   "metadata": {},
   "outputs": [
    {
     "data": {
      "text/html": [
       "<div>\n",
       "<style scoped>\n",
       "    .dataframe tbody tr th:only-of-type {\n",
       "        vertical-align: middle;\n",
       "    }\n",
       "\n",
       "    .dataframe tbody tr th {\n",
       "        vertical-align: top;\n",
       "    }\n",
       "\n",
       "    .dataframe thead th {\n",
       "        text-align: right;\n",
       "    }\n",
       "</style>\n",
       "<table border=\"1\" class=\"dataframe\">\n",
       "  <thead>\n",
       "    <tr style=\"text-align: right;\">\n",
       "      <th></th>\n",
       "      <th>danceability</th>\n",
       "      <th>energy</th>\n",
       "      <th>key</th>\n",
       "      <th>loudness</th>\n",
       "      <th>mode</th>\n",
       "      <th>speechiness</th>\n",
       "      <th>acousticness</th>\n",
       "      <th>instrumentalness</th>\n",
       "      <th>liveness</th>\n",
       "      <th>valence</th>\n",
       "      <th>tempo</th>\n",
       "      <th>type</th>\n",
       "      <th>id</th>\n",
       "      <th>uri</th>\n",
       "      <th>track_href</th>\n",
       "      <th>analysis_url</th>\n",
       "      <th>duration_ms</th>\n",
       "      <th>time_signature</th>\n",
       "    </tr>\n",
       "  </thead>\n",
       "  <tbody>\n",
       "    <tr>\n",
       "      <th>0</th>\n",
       "      <td>0.392</td>\n",
       "      <td>0.370</td>\n",
       "      <td>9</td>\n",
       "      <td>-10.888</td>\n",
       "      <td>1</td>\n",
       "      <td>0.0298</td>\n",
       "      <td>0.2050</td>\n",
       "      <td>0.009600</td>\n",
       "      <td>0.0821</td>\n",
       "      <td>0.512</td>\n",
       "      <td>48.718</td>\n",
       "      <td>audio_features</td>\n",
       "      <td>3fqwjXwUGN6vbzIwvyFMhx</td>\n",
       "      <td>spotify:track:3fqwjXwUGN6vbzIwvyFMhx</td>\n",
       "      <td>https://api.spotify.com/v1/tracks/3fqwjXwUGN6v...</td>\n",
       "      <td>https://api.spotify.com/v1/audio-analysis/3fqw...</td>\n",
       "      <td>293293</td>\n",
       "      <td>4</td>\n",
       "    </tr>\n",
       "    <tr>\n",
       "      <th>1</th>\n",
       "      <td>0.602</td>\n",
       "      <td>0.477</td>\n",
       "      <td>9</td>\n",
       "      <td>-8.425</td>\n",
       "      <td>1</td>\n",
       "      <td>0.0320</td>\n",
       "      <td>0.2680</td>\n",
       "      <td>0.000031</td>\n",
       "      <td>0.1730</td>\n",
       "      <td>0.552</td>\n",
       "      <td>183.890</td>\n",
       "      <td>audio_features</td>\n",
       "      <td>2UikqkwBv7aIvlixeVXHWt</td>\n",
       "      <td>spotify:track:2UikqkwBv7aIvlixeVXHWt</td>\n",
       "      <td>https://api.spotify.com/v1/tracks/2UikqkwBv7aI...</td>\n",
       "      <td>https://api.spotify.com/v1/audio-analysis/2Uik...</td>\n",
       "      <td>213493</td>\n",
       "      <td>4</td>\n",
       "    </tr>\n",
       "    <tr>\n",
       "      <th>2</th>\n",
       "      <td>0.353</td>\n",
       "      <td>0.770</td>\n",
       "      <td>1</td>\n",
       "      <td>-11.066</td>\n",
       "      <td>0</td>\n",
       "      <td>0.0493</td>\n",
       "      <td>0.0016</td>\n",
       "      <td>0.598000</td>\n",
       "      <td>0.1090</td>\n",
       "      <td>0.224</td>\n",
       "      <td>145.225</td>\n",
       "      <td>audio_features</td>\n",
       "      <td>7MSWxMumjz6lHj7oRApNbg</td>\n",
       "      <td>spotify:track:7MSWxMumjz6lHj7oRApNbg</td>\n",
       "      <td>https://api.spotify.com/v1/tracks/7MSWxMumjz6l...</td>\n",
       "      <td>https://api.spotify.com/v1/audio-analysis/7MSW...</td>\n",
       "      <td>267893</td>\n",
       "      <td>4</td>\n",
       "    </tr>\n",
       "    <tr>\n",
       "      <th>3</th>\n",
       "      <td>0.638</td>\n",
       "      <td>0.538</td>\n",
       "      <td>10</td>\n",
       "      <td>-8.445</td>\n",
       "      <td>1</td>\n",
       "      <td>0.0315</td>\n",
       "      <td>0.4520</td>\n",
       "      <td>0.000415</td>\n",
       "      <td>0.0695</td>\n",
       "      <td>0.318</td>\n",
       "      <td>89.124</td>\n",
       "      <td>audio_features</td>\n",
       "      <td>3K07bGe8iljQ3mOKArHLDo</td>\n",
       "      <td>spotify:track:3K07bGe8iljQ3mOKArHLDo</td>\n",
       "      <td>https://api.spotify.com/v1/tracks/3K07bGe8iljQ...</td>\n",
       "      <td>https://api.spotify.com/v1/audio-analysis/3K07...</td>\n",
       "      <td>240413</td>\n",
       "      <td>4</td>\n",
       "    </tr>\n",
       "    <tr>\n",
       "      <th>4</th>\n",
       "      <td>0.613</td>\n",
       "      <td>0.564</td>\n",
       "      <td>8</td>\n",
       "      <td>-7.085</td>\n",
       "      <td>1</td>\n",
       "      <td>0.0251</td>\n",
       "      <td>0.1340</td>\n",
       "      <td>0.000002</td>\n",
       "      <td>0.0585</td>\n",
       "      <td>0.538</td>\n",
       "      <td>78.388</td>\n",
       "      <td>audio_features</td>\n",
       "      <td>06gD2ZtK3Dzc1BYqWExQJJ</td>\n",
       "      <td>spotify:track:06gD2ZtK3Dzc1BYqWExQJJ</td>\n",
       "      <td>https://api.spotify.com/v1/tracks/06gD2ZtK3Dzc...</td>\n",
       "      <td>https://api.spotify.com/v1/audio-analysis/06gD...</td>\n",
       "      <td>180907</td>\n",
       "      <td>4</td>\n",
       "    </tr>\n",
       "  </tbody>\n",
       "</table>\n",
       "</div>"
      ],
      "text/plain": [
       "   danceability  energy  key  loudness  mode  speechiness  acousticness  \\\n",
       "0         0.392   0.370    9   -10.888     1       0.0298        0.2050   \n",
       "1         0.602   0.477    9    -8.425     1       0.0320        0.2680   \n",
       "2         0.353   0.770    1   -11.066     0       0.0493        0.0016   \n",
       "3         0.638   0.538   10    -8.445     1       0.0315        0.4520   \n",
       "4         0.613   0.564    8    -7.085     1       0.0251        0.1340   \n",
       "\n",
       "   instrumentalness  liveness  valence    tempo            type  \\\n",
       "0          0.009600    0.0821    0.512   48.718  audio_features   \n",
       "1          0.000031    0.1730    0.552  183.890  audio_features   \n",
       "2          0.598000    0.1090    0.224  145.225  audio_features   \n",
       "3          0.000415    0.0695    0.318   89.124  audio_features   \n",
       "4          0.000002    0.0585    0.538   78.388  audio_features   \n",
       "\n",
       "                       id                                   uri  \\\n",
       "0  3fqwjXwUGN6vbzIwvyFMhx  spotify:track:3fqwjXwUGN6vbzIwvyFMhx   \n",
       "1  2UikqkwBv7aIvlixeVXHWt  spotify:track:2UikqkwBv7aIvlixeVXHWt   \n",
       "2  7MSWxMumjz6lHj7oRApNbg  spotify:track:7MSWxMumjz6lHj7oRApNbg   \n",
       "3  3K07bGe8iljQ3mOKArHLDo  spotify:track:3K07bGe8iljQ3mOKArHLDo   \n",
       "4  06gD2ZtK3Dzc1BYqWExQJJ  spotify:track:06gD2ZtK3Dzc1BYqWExQJJ   \n",
       "\n",
       "                                          track_href  \\\n",
       "0  https://api.spotify.com/v1/tracks/3fqwjXwUGN6v...   \n",
       "1  https://api.spotify.com/v1/tracks/2UikqkwBv7aI...   \n",
       "2  https://api.spotify.com/v1/tracks/7MSWxMumjz6l...   \n",
       "3  https://api.spotify.com/v1/tracks/3K07bGe8iljQ...   \n",
       "4  https://api.spotify.com/v1/tracks/06gD2ZtK3Dzc...   \n",
       "\n",
       "                                        analysis_url  duration_ms  \\\n",
       "0  https://api.spotify.com/v1/audio-analysis/3fqw...       293293   \n",
       "1  https://api.spotify.com/v1/audio-analysis/2Uik...       213493   \n",
       "2  https://api.spotify.com/v1/audio-analysis/7MSW...       267893   \n",
       "3  https://api.spotify.com/v1/audio-analysis/3K07...       240413   \n",
       "4  https://api.spotify.com/v1/audio-analysis/06gD...       180907   \n",
       "\n",
       "   time_signature  \n",
       "0               4  \n",
       "1               4  \n",
       "2               4  \n",
       "3               4  \n",
       "4               4  "
      ]
     },
     "execution_count": 103,
     "metadata": {},
     "output_type": "execute_result"
    }
   ],
   "source": [
    "audio_features_df.head()"
   ]
  },
  {
   "cell_type": "markdown",
   "id": "0b739b5d",
   "metadata": {},
   "source": [
    "Below is the joint DataFrame of the top tracks and audio features. The two DataFrames were merged by each song ID. "
   ]
  },
  {
   "cell_type": "code",
   "execution_count": 104,
   "id": "1222112f",
   "metadata": {},
   "outputs": [],
   "source": [
    "joined_df = pd.merge(top_tracks_df, audio_features_df, how = 'inner', on = 'id')"
   ]
  },
  {
   "cell_type": "code",
   "execution_count": 105,
   "id": "1cb8ebb1",
   "metadata": {},
   "outputs": [
    {
     "data": {
      "text/html": [
       "<div>\n",
       "<style scoped>\n",
       "    .dataframe tbody tr th:only-of-type {\n",
       "        vertical-align: middle;\n",
       "    }\n",
       "\n",
       "    .dataframe tbody tr th {\n",
       "        vertical-align: top;\n",
       "    }\n",
       "\n",
       "    .dataframe thead th {\n",
       "        text-align: right;\n",
       "    }\n",
       "</style>\n",
       "<table border=\"1\" class=\"dataframe\">\n",
       "  <thead>\n",
       "    <tr style=\"text-align: right;\">\n",
       "      <th></th>\n",
       "      <th>album</th>\n",
       "      <th>artists</th>\n",
       "      <th>disc_number</th>\n",
       "      <th>duration_ms_x</th>\n",
       "      <th>explicit</th>\n",
       "      <th>external_ids</th>\n",
       "      <th>external_urls</th>\n",
       "      <th>href</th>\n",
       "      <th>id</th>\n",
       "      <th>is_local</th>\n",
       "      <th>...</th>\n",
       "      <th>instrumentalness</th>\n",
       "      <th>liveness</th>\n",
       "      <th>valence</th>\n",
       "      <th>tempo</th>\n",
       "      <th>type_y</th>\n",
       "      <th>uri_y</th>\n",
       "      <th>track_href</th>\n",
       "      <th>analysis_url</th>\n",
       "      <th>duration_ms_y</th>\n",
       "      <th>time_signature</th>\n",
       "    </tr>\n",
       "  </thead>\n",
       "  <tbody>\n",
       "    <tr>\n",
       "      <th>0</th>\n",
       "      <td>{'album_type': 'album', 'artists': [{'external...</td>\n",
       "      <td>[{'external_urls': {'spotify': 'https://open.s...</td>\n",
       "      <td>1</td>\n",
       "      <td>293293</td>\n",
       "      <td>False</td>\n",
       "      <td>{'isrc': 'USUM71418088'}</td>\n",
       "      <td>{'spotify': 'https://open.spotify.com/track/3f...</td>\n",
       "      <td>https://api.spotify.com/v1/tracks/3fqwjXwUGN6v...</td>\n",
       "      <td>3fqwjXwUGN6vbzIwvyFMhx</td>\n",
       "      <td>False</td>\n",
       "      <td>...</td>\n",
       "      <td>0.009600</td>\n",
       "      <td>0.0821</td>\n",
       "      <td>0.512</td>\n",
       "      <td>48.718</td>\n",
       "      <td>audio_features</td>\n",
       "      <td>spotify:track:3fqwjXwUGN6vbzIwvyFMhx</td>\n",
       "      <td>https://api.spotify.com/v1/tracks/3fqwjXwUGN6v...</td>\n",
       "      <td>https://api.spotify.com/v1/audio-analysis/3fqw...</td>\n",
       "      <td>293293</td>\n",
       "      <td>4</td>\n",
       "    </tr>\n",
       "    <tr>\n",
       "      <th>1</th>\n",
       "      <td>{'album_type': 'album', 'artists': [{'external...</td>\n",
       "      <td>[{'external_urls': {'spotify': 'https://open.s...</td>\n",
       "      <td>1</td>\n",
       "      <td>213493</td>\n",
       "      <td>False</td>\n",
       "      <td>{'isrc': 'USUM72013814'}</td>\n",
       "      <td>{'spotify': 'https://open.spotify.com/track/2U...</td>\n",
       "      <td>https://api.spotify.com/v1/tracks/2UikqkwBv7aI...</td>\n",
       "      <td>2UikqkwBv7aIvlixeVXHWt</td>\n",
       "      <td>False</td>\n",
       "      <td>...</td>\n",
       "      <td>0.000031</td>\n",
       "      <td>0.1730</td>\n",
       "      <td>0.552</td>\n",
       "      <td>183.890</td>\n",
       "      <td>audio_features</td>\n",
       "      <td>spotify:track:2UikqkwBv7aIvlixeVXHWt</td>\n",
       "      <td>https://api.spotify.com/v1/tracks/2UikqkwBv7aI...</td>\n",
       "      <td>https://api.spotify.com/v1/audio-analysis/2Uik...</td>\n",
       "      <td>213493</td>\n",
       "      <td>4</td>\n",
       "    </tr>\n",
       "    <tr>\n",
       "      <th>2</th>\n",
       "      <td>{'album_type': 'single', 'artists': [{'externa...</td>\n",
       "      <td>[{'external_urls': {'spotify': 'https://open.s...</td>\n",
       "      <td>1</td>\n",
       "      <td>267893</td>\n",
       "      <td>False</td>\n",
       "      <td>{'isrc': 'USUG12300484'}</td>\n",
       "      <td>{'spotify': 'https://open.spotify.com/track/7M...</td>\n",
       "      <td>https://api.spotify.com/v1/tracks/7MSWxMumjz6l...</td>\n",
       "      <td>7MSWxMumjz6lHj7oRApNbg</td>\n",
       "      <td>False</td>\n",
       "      <td>...</td>\n",
       "      <td>0.598000</td>\n",
       "      <td>0.1090</td>\n",
       "      <td>0.224</td>\n",
       "      <td>145.225</td>\n",
       "      <td>audio_features</td>\n",
       "      <td>spotify:track:7MSWxMumjz6lHj7oRApNbg</td>\n",
       "      <td>https://api.spotify.com/v1/tracks/7MSWxMumjz6l...</td>\n",
       "      <td>https://api.spotify.com/v1/audio-analysis/7MSW...</td>\n",
       "      <td>267893</td>\n",
       "      <td>4</td>\n",
       "    </tr>\n",
       "    <tr>\n",
       "      <th>3</th>\n",
       "      <td>{'album_type': 'album', 'artists': [{'external...</td>\n",
       "      <td>[{'external_urls': {'spotify': 'https://open.s...</td>\n",
       "      <td>1</td>\n",
       "      <td>240413</td>\n",
       "      <td>False</td>\n",
       "      <td>{'isrc': 'USUM72013812'}</td>\n",
       "      <td>{'spotify': 'https://open.spotify.com/track/3K...</td>\n",
       "      <td>https://api.spotify.com/v1/tracks/3K07bGe8iljQ...</td>\n",
       "      <td>3K07bGe8iljQ3mOKArHLDo</td>\n",
       "      <td>False</td>\n",
       "      <td>...</td>\n",
       "      <td>0.000415</td>\n",
       "      <td>0.0695</td>\n",
       "      <td>0.318</td>\n",
       "      <td>89.124</td>\n",
       "      <td>audio_features</td>\n",
       "      <td>spotify:track:3K07bGe8iljQ3mOKArHLDo</td>\n",
       "      <td>https://api.spotify.com/v1/tracks/3K07bGe8iljQ...</td>\n",
       "      <td>https://api.spotify.com/v1/audio-analysis/3K07...</td>\n",
       "      <td>240413</td>\n",
       "      <td>4</td>\n",
       "    </tr>\n",
       "    <tr>\n",
       "      <th>4</th>\n",
       "      <td>{'album_type': 'album', 'artists': [{'external...</td>\n",
       "      <td>[{'external_urls': {'spotify': 'https://open.s...</td>\n",
       "      <td>1</td>\n",
       "      <td>180906</td>\n",
       "      <td>False</td>\n",
       "      <td>{'isrc': 'USUM71701961'}</td>\n",
       "      <td>{'spotify': 'https://open.spotify.com/track/06...</td>\n",
       "      <td>https://api.spotify.com/v1/tracks/06gD2ZtK3Dzc...</td>\n",
       "      <td>06gD2ZtK3Dzc1BYqWExQJJ</td>\n",
       "      <td>False</td>\n",
       "      <td>...</td>\n",
       "      <td>0.000002</td>\n",
       "      <td>0.0585</td>\n",
       "      <td>0.538</td>\n",
       "      <td>78.388</td>\n",
       "      <td>audio_features</td>\n",
       "      <td>spotify:track:06gD2ZtK3Dzc1BYqWExQJJ</td>\n",
       "      <td>https://api.spotify.com/v1/tracks/06gD2ZtK3Dzc...</td>\n",
       "      <td>https://api.spotify.com/v1/audio-analysis/06gD...</td>\n",
       "      <td>180907</td>\n",
       "      <td>4</td>\n",
       "    </tr>\n",
       "  </tbody>\n",
       "</table>\n",
       "<p>5 rows × 34 columns</p>\n",
       "</div>"
      ],
      "text/plain": [
       "                                               album  \\\n",
       "0  {'album_type': 'album', 'artists': [{'external...   \n",
       "1  {'album_type': 'album', 'artists': [{'external...   \n",
       "2  {'album_type': 'single', 'artists': [{'externa...   \n",
       "3  {'album_type': 'album', 'artists': [{'external...   \n",
       "4  {'album_type': 'album', 'artists': [{'external...   \n",
       "\n",
       "                                             artists  disc_number  \\\n",
       "0  [{'external_urls': {'spotify': 'https://open.s...            1   \n",
       "1  [{'external_urls': {'spotify': 'https://open.s...            1   \n",
       "2  [{'external_urls': {'spotify': 'https://open.s...            1   \n",
       "3  [{'external_urls': {'spotify': 'https://open.s...            1   \n",
       "4  [{'external_urls': {'spotify': 'https://open.s...            1   \n",
       "\n",
       "   duration_ms_x  explicit              external_ids  \\\n",
       "0         293293     False  {'isrc': 'USUM71418088'}   \n",
       "1         213493     False  {'isrc': 'USUM72013814'}   \n",
       "2         267893     False  {'isrc': 'USUG12300484'}   \n",
       "3         240413     False  {'isrc': 'USUM72013812'}   \n",
       "4         180906     False  {'isrc': 'USUM71701961'}   \n",
       "\n",
       "                                       external_urls  \\\n",
       "0  {'spotify': 'https://open.spotify.com/track/3f...   \n",
       "1  {'spotify': 'https://open.spotify.com/track/2U...   \n",
       "2  {'spotify': 'https://open.spotify.com/track/7M...   \n",
       "3  {'spotify': 'https://open.spotify.com/track/3K...   \n",
       "4  {'spotify': 'https://open.spotify.com/track/06...   \n",
       "\n",
       "                                                href                      id  \\\n",
       "0  https://api.spotify.com/v1/tracks/3fqwjXwUGN6v...  3fqwjXwUGN6vbzIwvyFMhx   \n",
       "1  https://api.spotify.com/v1/tracks/2UikqkwBv7aI...  2UikqkwBv7aIvlixeVXHWt   \n",
       "2  https://api.spotify.com/v1/tracks/7MSWxMumjz6l...  7MSWxMumjz6lHj7oRApNbg   \n",
       "3  https://api.spotify.com/v1/tracks/3K07bGe8iljQ...  3K07bGe8iljQ3mOKArHLDo   \n",
       "4  https://api.spotify.com/v1/tracks/06gD2ZtK3Dzc...  06gD2ZtK3Dzc1BYqWExQJJ   \n",
       "\n",
       "   is_local  ...  instrumentalness liveness  valence    tempo          type_y  \\\n",
       "0     False  ...          0.009600   0.0821    0.512   48.718  audio_features   \n",
       "1     False  ...          0.000031   0.1730    0.552  183.890  audio_features   \n",
       "2     False  ...          0.598000   0.1090    0.224  145.225  audio_features   \n",
       "3     False  ...          0.000415   0.0695    0.318   89.124  audio_features   \n",
       "4     False  ...          0.000002   0.0585    0.538   78.388  audio_features   \n",
       "\n",
       "                                  uri_y  \\\n",
       "0  spotify:track:3fqwjXwUGN6vbzIwvyFMhx   \n",
       "1  spotify:track:2UikqkwBv7aIvlixeVXHWt   \n",
       "2  spotify:track:7MSWxMumjz6lHj7oRApNbg   \n",
       "3  spotify:track:3K07bGe8iljQ3mOKArHLDo   \n",
       "4  spotify:track:06gD2ZtK3Dzc1BYqWExQJJ   \n",
       "\n",
       "                                          track_href  \\\n",
       "0  https://api.spotify.com/v1/tracks/3fqwjXwUGN6v...   \n",
       "1  https://api.spotify.com/v1/tracks/2UikqkwBv7aI...   \n",
       "2  https://api.spotify.com/v1/tracks/7MSWxMumjz6l...   \n",
       "3  https://api.spotify.com/v1/tracks/3K07bGe8iljQ...   \n",
       "4  https://api.spotify.com/v1/tracks/06gD2ZtK3Dzc...   \n",
       "\n",
       "                                        analysis_url  duration_ms_y  \\\n",
       "0  https://api.spotify.com/v1/audio-analysis/3fqw...         293293   \n",
       "1  https://api.spotify.com/v1/audio-analysis/2Uik...         213493   \n",
       "2  https://api.spotify.com/v1/audio-analysis/7MSW...         267893   \n",
       "3  https://api.spotify.com/v1/audio-analysis/3K07...         240413   \n",
       "4  https://api.spotify.com/v1/audio-analysis/06gD...         180907   \n",
       "\n",
       "   time_signature  \n",
       "0               4  \n",
       "1               4  \n",
       "2               4  \n",
       "3               4  \n",
       "4               4  \n",
       "\n",
       "[5 rows x 34 columns]"
      ]
     },
     "execution_count": 105,
     "metadata": {},
     "output_type": "execute_result"
    }
   ],
   "source": [
    "joined_df.head()"
   ]
  },
  {
   "cell_type": "code",
   "execution_count": 106,
   "id": "c83f5443",
   "metadata": {},
   "outputs": [],
   "source": [
    "clean_df = joined_df.drop(columns=['artists', 'album','disc_number','explicit','external_urls','external_ids', 'is_playable', 'href', 'is_local', 'type_y', 'uri_y', 'preview_url','analysis_url', 'uri_x', 'type_x', 'duration_ms_y','track_href', 'duration_ms_x', 'id', 'track_number', 'energy','key', 'loudness', 'mode', 'speechiness', 'acousticness', 'instrumentalness','liveness', 'valence', 'tempo' ,'time_signature'])"
   ]
  },
  {
   "cell_type": "markdown",
   "id": "ceff4850",
   "metadata": {},
   "source": [
    "By cleaning up the DataFrame, it allows for the proper analysis of the data to test the hypothesis. "
   ]
  },
  {
   "cell_type": "code",
   "execution_count": 107,
   "id": "ff322b97",
   "metadata": {},
   "outputs": [],
   "source": [
    "name_group = clean_df.groupby(\"name\").sum()"
   ]
  },
  {
   "cell_type": "code",
   "execution_count": 108,
   "id": "d0558eab",
   "metadata": {},
   "outputs": [],
   "source": [
    "final_df = name_group.sort_values(by=\"popularity\", ascending=False)"
   ]
  },
  {
   "cell_type": "code",
   "execution_count": 109,
   "id": "87e75d0e",
   "metadata": {},
   "outputs": [
    {
     "data": {
      "text/html": [
       "<div>\n",
       "<style scoped>\n",
       "    .dataframe tbody tr th:only-of-type {\n",
       "        vertical-align: middle;\n",
       "    }\n",
       "\n",
       "    .dataframe tbody tr th {\n",
       "        vertical-align: top;\n",
       "    }\n",
       "\n",
       "    .dataframe thead th {\n",
       "        text-align: right;\n",
       "    }\n",
       "</style>\n",
       "<table border=\"1\" class=\"dataframe\">\n",
       "  <thead>\n",
       "    <tr style=\"text-align: right;\">\n",
       "      <th></th>\n",
       "      <th>popularity</th>\n",
       "      <th>danceability</th>\n",
       "    </tr>\n",
       "    <tr>\n",
       "      <th>name</th>\n",
       "      <th></th>\n",
       "      <th></th>\n",
       "    </tr>\n",
       "  </thead>\n",
       "  <tbody>\n",
       "    <tr>\n",
       "      <th>Tennessee Whiskey</th>\n",
       "      <td>84</td>\n",
       "      <td>0.392</td>\n",
       "    </tr>\n",
       "    <tr>\n",
       "      <th>You Should Probably Leave</th>\n",
       "      <td>83</td>\n",
       "      <td>0.602</td>\n",
       "    </tr>\n",
       "    <tr>\n",
       "      <th>White Horse</th>\n",
       "      <td>81</td>\n",
       "      <td>0.353</td>\n",
       "    </tr>\n",
       "    <tr>\n",
       "      <th>Broken Halos</th>\n",
       "      <td>80</td>\n",
       "      <td>0.613</td>\n",
       "    </tr>\n",
       "    <tr>\n",
       "      <th>Starting Over</th>\n",
       "      <td>78</td>\n",
       "      <td>0.638</td>\n",
       "    </tr>\n",
       "    <tr>\n",
       "      <th>I Bet You Think About Me (feat. Chris Stapleton) (Taylor’s Version) (From The Vault)</th>\n",
       "      <td>77</td>\n",
       "      <td>0.391</td>\n",
       "    </tr>\n",
       "    <tr>\n",
       "      <th>Parachute</th>\n",
       "      <td>76</td>\n",
       "      <td>0.642</td>\n",
       "    </tr>\n",
       "    <tr>\n",
       "      <th>Think I'm In Love With You</th>\n",
       "      <td>76</td>\n",
       "      <td>0.671</td>\n",
       "    </tr>\n",
       "    <tr>\n",
       "      <th>Millionaire</th>\n",
       "      <td>75</td>\n",
       "      <td>0.616</td>\n",
       "    </tr>\n",
       "    <tr>\n",
       "      <th>Traveller</th>\n",
       "      <td>74</td>\n",
       "      <td>0.543</td>\n",
       "    </tr>\n",
       "  </tbody>\n",
       "</table>\n",
       "</div>"
      ],
      "text/plain": [
       "                                                    popularity  danceability\n",
       "name                                                                        \n",
       "Tennessee Whiskey                                           84         0.392\n",
       "You Should Probably Leave                                   83         0.602\n",
       "White Horse                                                 81         0.353\n",
       "Broken Halos                                                80         0.613\n",
       "Starting Over                                               78         0.638\n",
       "I Bet You Think About Me (feat. Chris Stapleton...          77         0.391\n",
       "Parachute                                                   76         0.642\n",
       "Think I'm In Love With You                                  76         0.671\n",
       "Millionaire                                                 75         0.616\n",
       "Traveller                                                   74         0.543"
      ]
     },
     "execution_count": 109,
     "metadata": {},
     "output_type": "execute_result"
    }
   ],
   "source": [
    "final_df"
   ]
  },
  {
   "cell_type": "markdown",
   "id": "ad53ebcf",
   "metadata": {},
   "source": [
    "The final DataFrame above shows the two elements that were mandatory for testing my hypothesis. \n",
    "The DataFrame is sorted by greatest popularity level to least popularity level. The popularity level is measured on a scale of 0-100. The danceability level is measured on a scale of 0-1, 1 being the highest. To properly test my hypothesis and analyze the data, I cleaned up the data set and removed unecessary columns. The final DataFrame shows that my hypothesis was not correct. This data shows that popularity is not affected by danceability. If my hypothesis was correct, the songs with a higher popularity level would also have a higher danceability level, which in this case is not correct. By looking at this data, my hypothesis was almost the exact of what this data portrays. The lesser the popularity, the higher the danceability. Could this be a trend or is it just a coincidence? "
   ]
  },
  {
   "cell_type": "markdown",
   "id": "db2ee6ba",
   "metadata": {},
   "source": [
    "This analysis leaves me with the question of what factors do influence each other in music? In the future, I would like to take the year the song was made into account when doing an analysis like this. That is another factor that can  potentially influence popularity in music, or even influence other factors.  "
   ]
  }
 ],
 "metadata": {
  "kernelspec": {
   "display_name": "Python 3 (ipykernel)",
   "language": "python",
   "name": "python3"
  },
  "language_info": {
   "codemirror_mode": {
    "name": "ipython",
    "version": 3
   },
   "file_extension": ".py",
   "mimetype": "text/x-python",
   "name": "python",
   "nbconvert_exporter": "python",
   "pygments_lexer": "ipython3",
   "version": "3.11.4"
  }
 },
 "nbformat": 4,
 "nbformat_minor": 5
}
