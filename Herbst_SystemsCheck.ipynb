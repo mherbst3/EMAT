{
 "cells": [
  {
   "cell_type": "markdown",
   "id": "909d165a",
   "metadata": {},
   "source": [
    " # Hello! #\n",
    "## *My name is Melaina Herbst* "
   ]
  },
  {
   "cell_type": "markdown",
   "id": "177108ca",
   "metadata": {},
   "source": [
    "#### Throughout this class....\n",
    "\n",
    "1. I hope to get a better understanding on data.\n",
    "2. I hope to be able to apply this coursework to my career after college. \n",
    "3. I hope to be able to work through difficulties. "
   ]
  },
  {
   "cell_type": "markdown",
   "id": "93244746",
   "metadata": {},
   "source": [
    "![](https://www.southernliving.com/thmb/ZuS1MlY7N7G67Lyvl2zDIoktRDU=/750x0/filters:no_upscale():max_bytes(150000):strip_icc():format(webp)/gettyimages-837898820-1-4deae142d4d0403dbb6cb542bfc56934.jpg)"
   ]
  },
  {
   "cell_type": "code",
   "execution_count": null,
   "id": "993526b5",
   "metadata": {},
   "outputs": [],
   "source": []
  }
 ],
 "metadata": {
  "kernelspec": {
   "display_name": "Python 3 (ipykernel)",
   "language": "python",
   "name": "python3"
  },
  "language_info": {
   "codemirror_mode": {
    "name": "ipython",
    "version": 3
   },
   "file_extension": ".py",
   "mimetype": "text/x-python",
   "name": "python",
   "nbconvert_exporter": "python",
   "pygments_lexer": "ipython3",
   "version": "3.11.4"
  }
 },
 "nbformat": 4,
 "nbformat_minor": 5
}
