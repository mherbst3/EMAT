{
 "cells": [
  {
   "cell_type": "markdown",
   "id": "909d165a",
   "metadata": {},
   "source": [
    "# **Melaina**\n",
    "## *Herbst* "
   ]
  },
  {
   "cell_type": "markdown",
   "id": "177108ca",
   "metadata": {},
   "source": [
    "1. I hope to get a better understanding on data.\n",
    "2. I hope to be able to use applications with no error. \n",
    "3. I hope to be able to work through difficulties. "
   ]
  },
  {
   "cell_type": "markdown",
   "id": "93244746",
   "metadata": {},
   "source": [
    "![](https://upload.wikimedia.org/wikipedia/commons/thumb/0/0a/Python.svg/1200px-Python.svg.png)"
   ]
  },
  {
   "cell_type": "code",
   "execution_count": 7,
   "id": "da267d51",
   "metadata": {},
   "outputs": [
    {
     "name": "stdout",
     "output_type": "stream",
     "text": [
      "5\n",
      "2\n",
      "9\n",
      "3\n"
     ]
    }
   ],
   "source": [
    "nums = [\"5\", \"2\", \"9\", \"3\"] \n",
    "for x in nums: \n",
    "     print (x)\n",
    "    \n",
    "    "
   ]
  },
  {
   "cell_type": "code",
   "execution_count": 8,
   "id": "ff2122e4",
   "metadata": {},
   "outputs": [
    {
     "name": "stdout",
     "output_type": "stream",
     "text": [
      "19\n"
     ]
    }
   ],
   "source": [
    "def myfunction():\n",
    "  return 5+2+9+3\n",
    "\n",
    "print(myfunction())"
   ]
  },
  {
   "cell_type": "code",
   "execution_count": null,
   "id": "993526b5",
   "metadata": {},
   "outputs": [],
   "source": []
  }
 ],
 "metadata": {
  "kernelspec": {
   "display_name": "Python 3 (ipykernel)",
   "language": "python",
   "name": "python3"
  },
  "language_info": {
   "codemirror_mode": {
    "name": "ipython",
    "version": 3
   },
   "file_extension": ".py",
   "mimetype": "text/x-python",
   "name": "python",
   "nbconvert_exporter": "python",
   "pygments_lexer": "ipython3",
   "version": "3.11.4"
  }
 },
 "nbformat": 4,
 "nbformat_minor": 5
}
